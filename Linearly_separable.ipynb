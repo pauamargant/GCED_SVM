{
 "cells": [
  {
   "attachments": {},
   "cell_type": "markdown",
   "metadata": {},
   "source": [
    "# SVM Evaluation"
   ]
  },
  {
   "cell_type": "code",
   "execution_count": 2,
   "metadata": {},
   "outputs": [],
   "source": [
    "#from psd_functions import parse_benchmark,get_benchmarks, process_data, plot_data, plot_bars, plot_efficiency\n",
    "import pandas as pd\n",
    "import numpy as np\n",
    "import seaborn as sns\n",
    "import matplotlib.pyplot as plt\n",
    "import plotly.express as px\n",
    "\n",
    "from sklearn.model_selection import train_test_split\n",
    "from sklearn.svm import SVC\n",
    "from time import time\n",
    "from prince import PCA\n",
    "\n",
    "import glob\n",
    "import os\n",
    "import plotly.express as px\n",
    "import plotly.graph_objects as go\n",
    "\n",
    "from scripts import *\n",
    "import warnings\n",
    "warnings.filterwarnings('ignore')\n"
   ]
  },
  {
   "cell_type": "code",
   "execution_count": 3,
   "metadata": {},
   "outputs": [],
   "source": [
    "def plot_execution_time(df, parameter_name, mode = 'markers', logy = False):\n",
    "    primal_time = df[df[\"type\"]==\"primal\"][\"solve_time\"]\n",
    "    dual_lin_time = df[df[\"type\"]==\"dual_linear\"][\"solve_time\"]\n",
    "    dual_ker_time = df[df[\"type\"]==\"dual_gaussian\"][\"solve_time\"]\n",
    "    parameter_values = df[df[\"type\"]==\"primal\"][parameter_name]\n",
    "\n",
    "    if logy:\n",
    "        fig = px.scatter(y=primal_time, x=parameter_values, log_y=True)\n",
    "    else:\n",
    "        fig = px.scatter(y=primal_time, x=parameter_values)\n",
    "    \n",
    "    fig.add_trace(go.Scatter(x=parameter_values, y=primal_time,\n",
    "                    mode=mode,\n",
    "                    name='Primal'))\n",
    "                    \n",
    "    fig.add_trace(go.Scatter(x=parameter_values, y=dual_lin_time,\n",
    "                    mode=mode,\n",
    "                    name='Dual (linear)'))\n",
    "    fig.add_trace(go.Scatter(x=parameter_values, y=dual_ker_time,\n",
    "                    mode=mode,\n",
    "                    name='Dual (kernel)'))\n",
    "    #fig.update_layout(title=f\"Solve time vs {parameter_name}\")\n",
    "    fig.update_xaxes(title_text=parameter_name)\n",
    "    fig.update_yaxes(title_text=\"Solve time (s)\")\n",
    "    fig.update_traces(marker_size=10)\n",
    "    fig.update_layout(legend_title_text=\"Nodes\")\n",
    "    fig.show()\n",
    "\n",
    "def plot_execution_time_primal(df, parameter_name, mode = 'markers', logy = False):\n",
    "    primal_time = df[df[\"type\"]==\"primal\"][\"solve_time\"]\n",
    "    parameter_values = df[df[\"type\"]==\"primal\"][parameter_name]\n",
    "\n",
    "    fig = px.scatter(y=primal_time, x=parameter_values)\n",
    "    \n",
    "    fig.add_trace(go.Scatter(x=parameter_values, y=primal_time,\n",
    "                    mode=mode,\n",
    "                    name='Primal'))\n",
    "                    \n",
    "    #fig.update_layout(title=f\"Solve time vs {parameter_name}\")\n",
    "    fig.update_xaxes(title_text=parameter_name)\n",
    "    fig.update_yaxes(title_text=\"Solve time (s)\")\n",
    "    fig.update_traces(marker_size=10)\n",
    "    fig.update_layout(legend_title_text=\"Nodes\")\n",
    "    fig.show()\n",
    "\n",
    "def plot_iterations(df, parameter_name, mode = 'markers', logy = False):\n",
    "    primal_it = df[df[\"type\"]==\"primal\"][\"iterations\"]\n",
    "    dual_lin_it = df[df[\"type\"]==\"dual_linear\"][\"iterations\"]\n",
    "    dual_ker_it = df[df[\"type\"]==\"dual_gaussian\"][\"iterations\"]\n",
    "    parameter_values = df[df[\"type\"]==\"primal\"][parameter_name]\n",
    "\n",
    "    if logy:\n",
    "        fig = px.scatter(y=primal_it, x=parameter_values, log_y=True)\n",
    "    else:\n",
    "        fig = px.scatter(y=primal_it, x=parameter_values)\n",
    "    \n",
    "    fig.add_trace(go.Scatter(x=parameter_values, y=primal_it,\n",
    "                    mode=mode,\n",
    "                    name='Primal'))\n",
    "                    \n",
    "    fig.add_trace(go.Scatter(x=parameter_values, y=dual_lin_it,\n",
    "                    mode=mode,\n",
    "                    name='Dual (linear)'))\n",
    "    fig.add_trace(go.Scatter(x=parameter_values, y=dual_ker_it,\n",
    "                    mode=mode,\n",
    "                    name='Dual (kernel)'))\n",
    "    #fig.update_layout(title=f\"Solve time vs {parameter_name}\")\n",
    "    fig.update_xaxes(title_text=parameter_name)\n",
    "    fig.update_yaxes(title_text=\"Iterations\")\n",
    "    fig.update_traces(marker_size=10)\n",
    "    fig.update_layout(legend_title_text=\"Nodes\")\n",
    "    fig.show()\n",
    "    \n",
    "def plot_accuracy(df, parameter_name):\n",
    "    primal_accuracy = df[df[\"type\"]==\"primal\"][\"accuracy\"]\n",
    "    dual_lin_accuract = df[df[\"type\"]==\"dual_linear\"][\"accuracy\"]\n",
    "    dual_ker_accuracy = df[df[\"type\"]==\"dual_gaussian\"][\"accuracy\"]\n",
    "    parameter_values = df[df[\"type\"]==\"primal\"][parameter_name]\n",
    "\n",
    "    fig = px.scatter(y=primal_accuracy, x=parameter_values)\n",
    "    fig.add_trace(go.Scatter(x=parameter_values, y=primal_accuracy,\n",
    "                    mode='lines+markers',\n",
    "                    name='Primal'))\n",
    "                    \n",
    "    fig.add_trace(go.Scatter(x=parameter_values, y=dual_lin_accuract,\n",
    "                    mode='lines+markers',\n",
    "                    name='Dual (linear)'))\n",
    "    fig.add_trace(go.Scatter(x=parameter_values, y=dual_ker_accuracy,\n",
    "                    mode='lines+markers',\n",
    "                    name='Dual (kernel)'))\n",
    "    fig.update_layout(title=f\"Accuracy vs {parameter_name}\")\n",
    "    fig.update_xaxes(title_text=parameter_name)\n",
    "    fig.update_yaxes(title_text=\"Accuracy\")\n",
    "    fig.update_traces(marker_size=10)\n",
    "    fig.update_layout(legend_title_text=\"Nodes\")\n",
    "    fig.show()\n",
    "\n",
    "\n",
    "def time_heatmap(df, save=False,color = \"accuracy\", multiple = False, iris = False):\n",
    "    # if color is solve_time use log scale\n",
    "    if iris:\n",
    "        fig = sns.heatmap(df.pivot(\"type\", \"nu\", color), cbar=True,\n",
    "                        annot=True, fmt=\".2f\", cmap=\"viridis\")\n",
    "        fig.set_xlabel(\"type\")\n",
    "        fig.set_ylabel(\"nu\")\n",
    "        fig.set_title(f\"{color} heatmap for iris dataset\")\n",
    "\n",
    "        print(f\"{color} heatmap\")\n",
    "        # legend execution time\n",
    "        # set legend labels\n",
    "        if save:\n",
    "            fig.figure.savefig(f\"plots/heatmap_iris_{color}.pdf\", bbox_inches='tight')\n",
    "        plt.show()\n",
    "    else: \n",
    "        if not multiple:\n",
    "            fig = sns.heatmap(df.pivot(\"m\", \"nu\", color), cbar=True,\n",
    "                            annot=True, fmt=\".2f\", cmap=\"viridis\")\n",
    "            fig.set_xlabel(\"m\")\n",
    "            fig.set_ylabel(\"nu\")\n",
    "        else:\n",
    "            df_primal = df[df['type']=='primal']\n",
    "            df_dual_lin = df[df['type']=='dual_linear']\n",
    "            df_dual_ker = df[df['type']=='dual_gaussian']\n",
    "            # three heatmaps side by side\n",
    "            fig, axs = plt.subplots(1, 4, figsize=(16, 5),gridspec_kw=dict(width_ratios=[5,5,5,1]))\n",
    "            # import lognorm\n",
    "            from matplotlib.colors import LogNorm\n",
    "            # get min and max values in the thre df\n",
    "            min_val = min(df_primal[color].min(), df_dual_lin[color].min(), df_dual_ker[color].min())\n",
    "            max_val = max(df_primal[color].max(), df_dual_lin[color].max(), df_dual_ker[color].max())\n",
    "            sns.heatmap(df_primal.pivot(\"m\", \"nu\", color),vmin=min_val, vmax=max_val,\n",
    "                        annot=True, fmt=\".2f\",cbar=False,  cmap=\"viridis\", ax=axs[0])\n",
    "            sns.heatmap(df_dual_lin.pivot(\"m\", \"nu\", color),vmin=min_val, vmax=max_val,\n",
    "                        cbar=False, yticklabels=False,\n",
    "                        annot=True, fmt=\".2f\", cmap=\"viridis\", ax=axs[1])\n",
    "            sns.heatmap(df_dual_ker.pivot(\"m\", \"nu\", color), cbar=False,vmin=min_val, vmax=max_val,\n",
    "                         yticklabels=False, \n",
    "                        annot=True, fmt=\".2f\", cmap=\"viridis\", ax=axs[2])\n",
    "            \n",
    "            axs[0].set_title(\"Primal\")\n",
    "            axs[1].set_title(\"Dual (linear)\")\n",
    "            axs[2].set_title(\"Dual (kernel)\")\n",
    "            \n",
    "        print(f\"{color} heatmap\")\n",
    "        # legend execution time\n",
    "        # set legend labels\n",
    "        fig.colorbar(axs[1].collections[0], cax=axs[3])\n",
    "        if save:\n",
    "            fig.figure.savefig(f\"plots/heatmap_{color}.pdf\", bbox_inches='tight')\n",
    "        plt.show()"
   ]
  },
  {
   "cell_type": "code",
   "execution_count": 4,
   "metadata": {},
   "outputs": [],
   "source": [
    "# function that given a a model SMV_ampl and a vector of nu values, fits the models and returns the solve.time, accuracy and the value of the objective function\n",
    "def fit_model(X_train, Y_train, X_test, Y_test, type, nu_values, n = 4):\n",
    "    accuracies = []\n",
    "    solve_times = []\n",
    "    iterations = []\n",
    "    for nu in nu_values:\n",
    "        svm = SVM_ampl(type=type, nu=nu, solver='ipopt')\n",
    "        svm = svm.fit(X_train, Y_train)\n",
    "        y_pred = svm.predict(X_test)\n",
    "        accuracies.append(np.sum(y_pred == Y_test)/len(Y_test))\n",
    "        solve_times.append(svm.solve_time)\n",
    "        iterations.append(svm.metrics['num_iterations'])\n",
    "    return solve_times, accuracies, iterations"
   ]
  },
  {
   "attachments": {},
   "cell_type": "markdown",
   "metadata": {},
   "source": [
    "## Generated data"
   ]
  },
  {
   "attachments": {},
   "cell_type": "markdown",
   "metadata": {},
   "source": [
    "(The following cell takes about 80 minutes to run hence the results are saved in the 'df.pkl' file)"
   ]
  },
  {
   "cell_type": "code",
   "execution_count": 13,
   "metadata": {},
   "outputs": [
    {
     "name": "stdout",
     "output_type": "stream",
     "text": [
      "ipopt\n",
      "ipopt\n",
      "ipopt\n",
      "ipopt\n",
      "ipopt\n",
      "ipopt\n",
      "ipopt\n",
      "ipopt\n",
      "ipopt\n",
      "ipopt\n",
      "ipopt\n",
      "ipopt\n",
      "ipopt\n",
      "ipopt\n",
      "ipopt\n",
      "ipopt\n",
      "predicting with gaussian kernel\n",
      "ipopt\n",
      "predicting with gaussian kernel\n",
      "ipopt\n",
      "predicting with gaussian kernel\n",
      "ipopt\n",
      "predicting with gaussian kernel\n",
      "ipopt\n",
      "predicting with gaussian kernel\n",
      "ipopt\n",
      "ipopt\n",
      "ipopt\n",
      "ipopt\n",
      "ipopt\n",
      "ipopt\n",
      "ipopt\n",
      "ipopt\n",
      "ipopt\n",
      "ipopt\n",
      "ipopt\n",
      "ipopt\n",
      "ipopt\n",
      "ipopt\n",
      "ipopt\n",
      "ipopt\n",
      "predicting with gaussian kernel\n",
      "ipopt\n",
      "predicting with gaussian kernel\n",
      "ipopt\n",
      "predicting with gaussian kernel\n",
      "ipopt\n",
      "predicting with gaussian kernel\n",
      "ipopt\n",
      "predicting with gaussian kernel\n",
      "ipopt\n",
      "ipopt\n",
      "ipopt\n",
      "ipopt\n",
      "ipopt\n",
      "ipopt\n",
      "ipopt\n",
      "ipopt\n",
      "ipopt\n",
      "ipopt\n",
      "ipopt\n",
      "ipopt\n",
      "ipopt\n",
      "ipopt\n",
      "ipopt\n",
      "ipopt\n",
      "predicting with gaussian kernel\n",
      "ipopt\n",
      "predicting with gaussian kernel\n",
      "ipopt\n",
      "predicting with gaussian kernel\n",
      "ipopt\n",
      "predicting with gaussian kernel\n",
      "ipopt\n",
      "predicting with gaussian kernel\n",
      "ipopt\n",
      "ipopt\n",
      "ipopt\n",
      "ipopt\n",
      "ipopt\n",
      "ipopt\n",
      "ipopt\n",
      "ipopt\n",
      "ipopt\n",
      "ipopt\n",
      "ipopt\n",
      "ipopt\n",
      "ipopt\n",
      "ipopt\n",
      "ipopt\n",
      "ipopt\n",
      "predicting with gaussian kernel\n",
      "ipopt\n",
      "predicting with gaussian kernel\n",
      "ipopt\n",
      "predicting with gaussian kernel\n",
      "ipopt\n",
      "predicting with gaussian kernel\n",
      "ipopt\n",
      "predicting with gaussian kernel\n",
      "ipopt\n",
      "ipopt\n",
      "ipopt\n",
      "ipopt\n",
      "ipopt\n",
      "ipopt\n",
      "ipopt\n",
      "ipopt\n",
      "ipopt\n",
      "ipopt\n",
      "ipopt\n",
      "ipopt\n",
      "ipopt\n",
      "ipopt\n",
      "ipopt\n",
      "ipopt\n",
      "predicting with gaussian kernel\n",
      "ipopt\n",
      "predicting with gaussian kernel\n",
      "ipopt\n",
      "predicting with gaussian kernel\n",
      "ipopt\n",
      "predicting with gaussian kernel\n",
      "ipopt\n",
      "predicting with gaussian kernel\n",
      "ipopt\n",
      "ipopt\n",
      "ipopt\n",
      "ipopt\n",
      "ipopt\n",
      "ipopt\n",
      "ipopt\n",
      "ipopt\n",
      "ipopt\n",
      "ipopt\n",
      "ipopt\n",
      "ipopt\n",
      "ipopt\n",
      "ipopt\n",
      "ipopt\n",
      "ipopt\n",
      "predicting with gaussian kernel\n",
      "ipopt\n",
      "predicting with gaussian kernel\n",
      "ipopt\n",
      "predicting with gaussian kernel\n",
      "ipopt\n",
      "predicting with gaussian kernel\n",
      "ipopt\n",
      "predicting with gaussian kernel\n",
      "ipopt\n",
      "ipopt\n",
      "ipopt\n",
      "ipopt\n",
      "ipopt\n",
      "ipopt\n",
      "ipopt\n",
      "ipopt\n",
      "ipopt\n",
      "ipopt\n",
      "ipopt\n",
      "ipopt\n",
      "ipopt\n",
      "ipopt\n",
      "ipopt\n",
      "ipopt\n",
      "predicting with gaussian kernel\n",
      "ipopt\n",
      "predicting with gaussian kernel\n",
      "ipopt\n",
      "predicting with gaussian kernel\n",
      "ipopt\n",
      "predicting with gaussian kernel\n",
      "ipopt\n",
      "predicting with gaussian kernel\n",
      "ipopt\n",
      "ipopt\n",
      "ipopt\n",
      "ipopt\n",
      "ipopt\n",
      "ipopt\n",
      "ipopt\n",
      "ipopt\n",
      "ipopt\n",
      "ipopt\n",
      "ipopt\n",
      "ipopt\n",
      "ipopt\n",
      "ipopt\n",
      "ipopt\n",
      "ipopt\n",
      "predicting with gaussian kernel\n",
      "ipopt\n",
      "predicting with gaussian kernel\n",
      "ipopt\n",
      "predicting with gaussian kernel\n",
      "ipopt\n",
      "predicting with gaussian kernel\n",
      "ipopt\n",
      "predicting with gaussian kernel\n",
      "ipopt\n",
      "ipopt\n",
      "ipopt\n",
      "ipopt\n",
      "ipopt\n",
      "ipopt\n",
      "ipopt\n",
      "ipopt\n",
      "ipopt\n",
      "ipopt\n",
      "ipopt\n",
      "ipopt\n",
      "ipopt\n",
      "ipopt\n",
      "ipopt\n",
      "ipopt\n",
      "predicting with gaussian kernel\n",
      "ipopt\n",
      "predicting with gaussian kernel\n",
      "ipopt\n",
      "predicting with gaussian kernel\n",
      "ipopt\n",
      "predicting with gaussian kernel\n",
      "ipopt\n",
      "predicting with gaussian kernel\n",
      "ipopt\n",
      "ipopt\n",
      "ipopt\n",
      "ipopt\n",
      "ipopt\n",
      "ipopt\n",
      "ipopt\n",
      "ipopt\n",
      "ipopt\n",
      "ipopt\n",
      "ipopt\n",
      "ipopt\n",
      "ipopt\n",
      "ipopt\n",
      "ipopt\n",
      "ipopt\n",
      "predicting with gaussian kernel\n",
      "ipopt\n",
      "predicting with gaussian kernel\n",
      "ipopt\n",
      "predicting with gaussian kernel\n",
      "ipopt\n",
      "predicting with gaussian kernel\n",
      "ipopt\n",
      "predicting with gaussian kernel\n",
      "ipopt\n",
      "ipopt\n",
      "ipopt\n",
      "ipopt\n",
      "ipopt\n",
      "ipopt\n",
      "ipopt\n",
      "ipopt\n",
      "ipopt\n",
      "ipopt\n",
      "ipopt\n",
      "ipopt\n",
      "ipopt\n",
      "ipopt\n",
      "ipopt\n",
      "ipopt\n",
      "predicting with gaussian kernel\n",
      "ipopt\n",
      "predicting with gaussian kernel\n",
      "ipopt\n",
      "predicting with gaussian kernel\n",
      "ipopt\n",
      "predicting with gaussian kernel\n",
      "ipopt\n",
      "predicting with gaussian kernel\n",
      "ipopt\n",
      "ipopt\n",
      "ipopt\n",
      "ipopt\n",
      "ipopt\n",
      "ipopt\n",
      "ipopt\n",
      "ipopt\n",
      "ipopt\n",
      "ipopt\n",
      "ipopt\n",
      "ipopt\n",
      "ipopt\n",
      "ipopt\n",
      "ipopt\n",
      "ipopt\n",
      "predicting with gaussian kernel\n",
      "ipopt\n",
      "predicting with gaussian kernel\n",
      "ipopt\n",
      "predicting with gaussian kernel\n",
      "ipopt\n",
      "predicting with gaussian kernel\n",
      "ipopt\n",
      "predicting with gaussian kernel\n",
      "ipopt\n",
      "ipopt\n",
      "ipopt\n",
      "ipopt\n",
      "ipopt\n",
      "ipopt\n",
      "ipopt\n",
      "ipopt\n",
      "ipopt\n",
      "ipopt\n",
      "ipopt\n",
      "ipopt\n",
      "ipopt\n",
      "ipopt\n",
      "ipopt\n",
      "ipopt\n",
      "predicting with gaussian kernel\n",
      "ipopt\n",
      "predicting with gaussian kernel\n",
      "ipopt\n",
      "predicting with gaussian kernel\n",
      "ipopt\n",
      "predicting with gaussian kernel\n",
      "ipopt\n",
      "predicting with gaussian kernel\n"
     ]
    }
   ],
   "source": [
    "# fit the models for different sizes of m\n",
    "m_values = [50, 100, 150, 200, 250, 300, 350, 400, 450, 500, 666, 832, 1000] \n",
    "nu_values = [0.5, 1, 2, 5, 10]\n",
    "types = ['primal', 'dual_linear', 'dual_gaussian']\n",
    "    \n",
    "# create a dataframe to store the results\n",
    "df = pd.DataFrame(columns=['m', 'nu', 'type', 'accuracy', 'solve_time', 'obj_value'])\n",
    "\n",
    "# for each size of m, fit the models and store the results in the dataframe\n",
    "for m in m_values:\n",
    "    data = SVM_data(m,0.2,seed=42)\n",
    "    X_train, Y_train, X_test, Y_test = data.get_data()\n",
    "    for type in types:\n",
    "        solve_times, accuracies, iterations = fit_model(X_train, Y_train, X_test, Y_test, type, nu_values)\n",
    "        for i in range(len(nu_values)):\n",
    "            df = pd.concat([df, pd.DataFrame({'m': m, 'nu': nu_values[i], 'type': type, 'accuracy': accuracies[i], 'solve_time': solve_times[i], 'iterations': iterations[i]}, index=[0])], ignore_index=True)\n",
    "df.to_pickle(\"dataset/df.pkl\")"
   ]
  },
  {
   "cell_type": "code",
   "execution_count": 7,
   "metadata": {},
   "outputs": [
    {
     "data": {
      "application/vnd.plotly.v1+json": {
       "config": {
        "plotlyServerURL": "https://plot.ly"
       },
       "data": [
        {
         "hovertemplate": "x=%{x}<br>y=%{y}<extra></extra>",
         "legendgroup": "",
         "marker": {
          "color": "#636efa",
          "size": 10,
          "symbol": "circle"
         },
         "mode": "markers",
         "name": "",
         "orientation": "v",
         "showlegend": false,
         "type": "scatter",
         "x": [
          50,
          50,
          50,
          50,
          50,
          100,
          100,
          100,
          100,
          100,
          150,
          150,
          150,
          150,
          150,
          200,
          200,
          200,
          200,
          200,
          250,
          250,
          250,
          250,
          250,
          300,
          300,
          300,
          300,
          300,
          350,
          350,
          350,
          350,
          350,
          400,
          400,
          400,
          400,
          400,
          450,
          450,
          450,
          450,
          450,
          500,
          500,
          500,
          500,
          500,
          666,
          666,
          666,
          666,
          666,
          832,
          832,
          832,
          832,
          832,
          1000,
          1000,
          1000,
          1000,
          1000
         ],
         "xaxis": "x",
         "y": [
          0.17422795295715332,
          0.10892701148986816,
          0.2486131191253662,
          0.13392281532287598,
          0.1399369239807129,
          0.13623881340026855,
          0.15148496627807617,
          0.1579887866973877,
          0.18575477600097656,
          0.2088019847869873,
          0.1657869815826416,
          0.16794610023498535,
          0.17702913284301758,
          0.1913459300994873,
          0.234086275100708,
          0.22714614868164062,
          0.6366949081420898,
          0.2205028533935547,
          0.2459268569946289,
          0.2747039794921875,
          0.20778703689575195,
          0.2281510829925537,
          0.2550208568572998,
          0.2750699520111084,
          0.33208179473876953,
          0.2680671215057373,
          0.32187390327453613,
          0.31059908866882324,
          0.37781715393066406,
          0.4998359680175781,
          0.8577899932861328,
          0.45972299575805664,
          0.4827568531036377,
          0.4118208885192871,
          0.563525915145874,
          0.6271159648895264,
          0.4624288082122803,
          0.3704390525817871,
          0.4426729679107666,
          0.5640888214111328,
          0.2915480136871338,
          0.38276100158691406,
          0.32550716400146484,
          0.410355806350708,
          0.4971449375152588,
          0.339069128036499,
          0.48552584648132324,
          0.3879070281982422,
          0.4501330852508545,
          0.6385049819946289,
          0.37990236282348633,
          0.5208041667938232,
          0.5168638229370117,
          0.589259147644043,
          0.6553559303283691,
          0.6655881404876709,
          0.7533001899719238,
          0.5216901302337646,
          0.6794939041137695,
          1.0949339866638184,
          0.5638608932495117,
          0.6844098567962646,
          0.6932191848754883,
          0.9984819889068604,
          0.9509797096252441
         ],
         "yaxis": "y"
        },
        {
         "marker": {
          "size": 10
         },
         "mode": "markers",
         "name": "Primal",
         "type": "scatter",
         "x": [
          50,
          50,
          50,
          50,
          50,
          100,
          100,
          100,
          100,
          100,
          150,
          150,
          150,
          150,
          150,
          200,
          200,
          200,
          200,
          200,
          250,
          250,
          250,
          250,
          250,
          300,
          300,
          300,
          300,
          300,
          350,
          350,
          350,
          350,
          350,
          400,
          400,
          400,
          400,
          400,
          450,
          450,
          450,
          450,
          450,
          500,
          500,
          500,
          500,
          500,
          666,
          666,
          666,
          666,
          666,
          832,
          832,
          832,
          832,
          832,
          1000,
          1000,
          1000,
          1000,
          1000
         ],
         "y": [
          0.17422795295715332,
          0.10892701148986816,
          0.2486131191253662,
          0.13392281532287598,
          0.1399369239807129,
          0.13623881340026855,
          0.15148496627807617,
          0.1579887866973877,
          0.18575477600097656,
          0.2088019847869873,
          0.1657869815826416,
          0.16794610023498535,
          0.17702913284301758,
          0.1913459300994873,
          0.234086275100708,
          0.22714614868164062,
          0.6366949081420898,
          0.2205028533935547,
          0.2459268569946289,
          0.2747039794921875,
          0.20778703689575195,
          0.2281510829925537,
          0.2550208568572998,
          0.2750699520111084,
          0.33208179473876953,
          0.2680671215057373,
          0.32187390327453613,
          0.31059908866882324,
          0.37781715393066406,
          0.4998359680175781,
          0.8577899932861328,
          0.45972299575805664,
          0.4827568531036377,
          0.4118208885192871,
          0.563525915145874,
          0.6271159648895264,
          0.4624288082122803,
          0.3704390525817871,
          0.4426729679107666,
          0.5640888214111328,
          0.2915480136871338,
          0.38276100158691406,
          0.32550716400146484,
          0.410355806350708,
          0.4971449375152588,
          0.339069128036499,
          0.48552584648132324,
          0.3879070281982422,
          0.4501330852508545,
          0.6385049819946289,
          0.37990236282348633,
          0.5208041667938232,
          0.5168638229370117,
          0.589259147644043,
          0.6553559303283691,
          0.6655881404876709,
          0.7533001899719238,
          0.5216901302337646,
          0.6794939041137695,
          1.0949339866638184,
          0.5638608932495117,
          0.6844098567962646,
          0.6932191848754883,
          0.9984819889068604,
          0.9509797096252441
         ]
        },
        {
         "marker": {
          "size": 10
         },
         "mode": "markers",
         "name": "Dual (linear)",
         "type": "scatter",
         "x": [
          50,
          50,
          50,
          50,
          50,
          100,
          100,
          100,
          100,
          100,
          150,
          150,
          150,
          150,
          150,
          200,
          200,
          200,
          200,
          200,
          250,
          250,
          250,
          250,
          250,
          300,
          300,
          300,
          300,
          300,
          350,
          350,
          350,
          350,
          350,
          400,
          400,
          400,
          400,
          400,
          450,
          450,
          450,
          450,
          450,
          500,
          500,
          500,
          500,
          500,
          666,
          666,
          666,
          666,
          666,
          832,
          832,
          832,
          832,
          832,
          1000,
          1000,
          1000,
          1000,
          1000
         ],
         "y": [
          0.1521298885345459,
          0.15314912796020508,
          0.14026498794555664,
          0.15549802780151367,
          0.15973186492919922,
          0.3584599494934082,
          0.2817978858947754,
          0.3287820816040039,
          0.3088502883911133,
          0.31580686569213867,
          0.6007781028747559,
          0.6135411262512207,
          0.6057429313659668,
          0.6657669544219971,
          0.6752691268920898,
          1.1687119007110596,
          1.1248140335083008,
          1.6436970233917236,
          1.1699459552764893,
          1.3656399250030518,
          1.906538963317871,
          1.8554399013519287,
          3.029923915863037,
          1.788715124130249,
          2.2247989177703857,
          3.3178648948669434,
          2.703212022781372,
          2.7617409229278564,
          2.9066967964172363,
          3.3546338081359863,
          4.9640209674835205,
          6.25179386138916,
          4.882831811904907,
          6.39922571182251,
          4.216707944869995,
          6.461045026779175,
          5.5228588581085205,
          6.627400875091553,
          6.444794178009033,
          8.072744846343994,
          7.239386081695557,
          6.515876054763794,
          6.02095890045166,
          6.532594919204712,
          8.158459901809692,
          9.638139009475708,
          9.754041194915771,
          11.79430603981018,
          7.826545000076294,
          9.933686971664429,
          25.340272903442383,
          20.425364017486572,
          21.204967737197876,
          23.509360790252686,
          19.985594034194946,
          42.96955108642578,
          37.43182373046875,
          55.38206911087036,
          36.9428870677948,
          38.13835906982422,
          98.40606784820557,
          64.78949117660522,
          57.570960998535156,
          56.84722590446472,
          64.11867499351501
         ]
        },
        {
         "marker": {
          "size": 10
         },
         "mode": "markers",
         "name": "Dual (kernel)",
         "type": "scatter",
         "x": [
          50,
          50,
          50,
          50,
          50,
          100,
          100,
          100,
          100,
          100,
          150,
          150,
          150,
          150,
          150,
          200,
          200,
          200,
          200,
          200,
          250,
          250,
          250,
          250,
          250,
          300,
          300,
          300,
          300,
          300,
          350,
          350,
          350,
          350,
          350,
          400,
          400,
          400,
          400,
          400,
          450,
          450,
          450,
          450,
          450,
          500,
          500,
          500,
          500,
          500,
          666,
          666,
          666,
          666,
          666,
          832,
          832,
          832,
          832,
          832,
          1000,
          1000,
          1000,
          1000,
          1000
         ],
         "y": [
          0.14147305488586426,
          0.18850398063659668,
          0.14862585067749023,
          0.14752697944641113,
          0.14562106132507324,
          0.27349209785461426,
          0.30779290199279785,
          0.2904520034790039,
          0.3646259307861328,
          0.4709041118621826,
          0.5725290775299072,
          0.5786168575286865,
          0.6211130619049072,
          0.6948320865631104,
          0.608910083770752,
          0.9938058853149414,
          1.0977518558502197,
          0.989980936050415,
          1.1494348049163818,
          1.2697079181671143,
          1.8272778987884521,
          1.9159517288208008,
          1.7172482013702393,
          2.9181768894195557,
          2.083674907684326,
          3.497903823852539,
          2.7986690998077393,
          2.6756680011749268,
          4.390086889266968,
          2.957932710647583,
          3.458362102508545,
          3.3297321796417236,
          15.713850736618042,
          5.684047222137451,
          6.096844911575317,
          7.899112224578857,
          8.201596975326538,
          7.048600196838379,
          5.5727832317352295,
          5.006557941436768,
          10.177386999130249,
          7.982436895370483,
          8.415191173553467,
          8.956597089767456,
          7.9536848068237305,
          8.862491130828857,
          10.098742008209229,
          9.16629409790039,
          9.016597986221313,
          9.687535285949707,
          22.763992071151733,
          21.643505811691284,
          21.91586399078369,
          25.905076026916504,
          21.457802057266235,
          38.1610791683197,
          46.63747978210449,
          43.53872203826904,
          34.36294913291931,
          40.08972120285034,
          68.80164098739624,
          51.37207388877869,
          47.3767192363739,
          51.23834705352783,
          56.897477865219116
         ]
        }
       ],
       "layout": {
        "legend": {
         "title": {
          "text": "Nodes"
         },
         "tracegroupgap": 0
        },
        "margin": {
         "t": 60
        },
        "template": {
         "data": {
          "bar": [
           {
            "error_x": {
             "color": "#2a3f5f"
            },
            "error_y": {
             "color": "#2a3f5f"
            },
            "marker": {
             "line": {
              "color": "#E5ECF6",
              "width": 0.5
             },
             "pattern": {
              "fillmode": "overlay",
              "size": 10,
              "solidity": 0.2
             }
            },
            "type": "bar"
           }
          ],
          "barpolar": [
           {
            "marker": {
             "line": {
              "color": "#E5ECF6",
              "width": 0.5
             },
             "pattern": {
              "fillmode": "overlay",
              "size": 10,
              "solidity": 0.2
             }
            },
            "type": "barpolar"
           }
          ],
          "carpet": [
           {
            "aaxis": {
             "endlinecolor": "#2a3f5f",
             "gridcolor": "white",
             "linecolor": "white",
             "minorgridcolor": "white",
             "startlinecolor": "#2a3f5f"
            },
            "baxis": {
             "endlinecolor": "#2a3f5f",
             "gridcolor": "white",
             "linecolor": "white",
             "minorgridcolor": "white",
             "startlinecolor": "#2a3f5f"
            },
            "type": "carpet"
           }
          ],
          "choropleth": [
           {
            "colorbar": {
             "outlinewidth": 0,
             "ticks": ""
            },
            "type": "choropleth"
           }
          ],
          "contour": [
           {
            "colorbar": {
             "outlinewidth": 0,
             "ticks": ""
            },
            "colorscale": [
             [
              0,
              "#0d0887"
             ],
             [
              0.1111111111111111,
              "#46039f"
             ],
             [
              0.2222222222222222,
              "#7201a8"
             ],
             [
              0.3333333333333333,
              "#9c179e"
             ],
             [
              0.4444444444444444,
              "#bd3786"
             ],
             [
              0.5555555555555556,
              "#d8576b"
             ],
             [
              0.6666666666666666,
              "#ed7953"
             ],
             [
              0.7777777777777778,
              "#fb9f3a"
             ],
             [
              0.8888888888888888,
              "#fdca26"
             ],
             [
              1,
              "#f0f921"
             ]
            ],
            "type": "contour"
           }
          ],
          "contourcarpet": [
           {
            "colorbar": {
             "outlinewidth": 0,
             "ticks": ""
            },
            "type": "contourcarpet"
           }
          ],
          "heatmap": [
           {
            "colorbar": {
             "outlinewidth": 0,
             "ticks": ""
            },
            "colorscale": [
             [
              0,
              "#0d0887"
             ],
             [
              0.1111111111111111,
              "#46039f"
             ],
             [
              0.2222222222222222,
              "#7201a8"
             ],
             [
              0.3333333333333333,
              "#9c179e"
             ],
             [
              0.4444444444444444,
              "#bd3786"
             ],
             [
              0.5555555555555556,
              "#d8576b"
             ],
             [
              0.6666666666666666,
              "#ed7953"
             ],
             [
              0.7777777777777778,
              "#fb9f3a"
             ],
             [
              0.8888888888888888,
              "#fdca26"
             ],
             [
              1,
              "#f0f921"
             ]
            ],
            "type": "heatmap"
           }
          ],
          "heatmapgl": [
           {
            "colorbar": {
             "outlinewidth": 0,
             "ticks": ""
            },
            "colorscale": [
             [
              0,
              "#0d0887"
             ],
             [
              0.1111111111111111,
              "#46039f"
             ],
             [
              0.2222222222222222,
              "#7201a8"
             ],
             [
              0.3333333333333333,
              "#9c179e"
             ],
             [
              0.4444444444444444,
              "#bd3786"
             ],
             [
              0.5555555555555556,
              "#d8576b"
             ],
             [
              0.6666666666666666,
              "#ed7953"
             ],
             [
              0.7777777777777778,
              "#fb9f3a"
             ],
             [
              0.8888888888888888,
              "#fdca26"
             ],
             [
              1,
              "#f0f921"
             ]
            ],
            "type": "heatmapgl"
           }
          ],
          "histogram": [
           {
            "marker": {
             "pattern": {
              "fillmode": "overlay",
              "size": 10,
              "solidity": 0.2
             }
            },
            "type": "histogram"
           }
          ],
          "histogram2d": [
           {
            "colorbar": {
             "outlinewidth": 0,
             "ticks": ""
            },
            "colorscale": [
             [
              0,
              "#0d0887"
             ],
             [
              0.1111111111111111,
              "#46039f"
             ],
             [
              0.2222222222222222,
              "#7201a8"
             ],
             [
              0.3333333333333333,
              "#9c179e"
             ],
             [
              0.4444444444444444,
              "#bd3786"
             ],
             [
              0.5555555555555556,
              "#d8576b"
             ],
             [
              0.6666666666666666,
              "#ed7953"
             ],
             [
              0.7777777777777778,
              "#fb9f3a"
             ],
             [
              0.8888888888888888,
              "#fdca26"
             ],
             [
              1,
              "#f0f921"
             ]
            ],
            "type": "histogram2d"
           }
          ],
          "histogram2dcontour": [
           {
            "colorbar": {
             "outlinewidth": 0,
             "ticks": ""
            },
            "colorscale": [
             [
              0,
              "#0d0887"
             ],
             [
              0.1111111111111111,
              "#46039f"
             ],
             [
              0.2222222222222222,
              "#7201a8"
             ],
             [
              0.3333333333333333,
              "#9c179e"
             ],
             [
              0.4444444444444444,
              "#bd3786"
             ],
             [
              0.5555555555555556,
              "#d8576b"
             ],
             [
              0.6666666666666666,
              "#ed7953"
             ],
             [
              0.7777777777777778,
              "#fb9f3a"
             ],
             [
              0.8888888888888888,
              "#fdca26"
             ],
             [
              1,
              "#f0f921"
             ]
            ],
            "type": "histogram2dcontour"
           }
          ],
          "mesh3d": [
           {
            "colorbar": {
             "outlinewidth": 0,
             "ticks": ""
            },
            "type": "mesh3d"
           }
          ],
          "parcoords": [
           {
            "line": {
             "colorbar": {
              "outlinewidth": 0,
              "ticks": ""
             }
            },
            "type": "parcoords"
           }
          ],
          "pie": [
           {
            "automargin": true,
            "type": "pie"
           }
          ],
          "scatter": [
           {
            "fillpattern": {
             "fillmode": "overlay",
             "size": 10,
             "solidity": 0.2
            },
            "type": "scatter"
           }
          ],
          "scatter3d": [
           {
            "line": {
             "colorbar": {
              "outlinewidth": 0,
              "ticks": ""
             }
            },
            "marker": {
             "colorbar": {
              "outlinewidth": 0,
              "ticks": ""
             }
            },
            "type": "scatter3d"
           }
          ],
          "scattercarpet": [
           {
            "marker": {
             "colorbar": {
              "outlinewidth": 0,
              "ticks": ""
             }
            },
            "type": "scattercarpet"
           }
          ],
          "scattergeo": [
           {
            "marker": {
             "colorbar": {
              "outlinewidth": 0,
              "ticks": ""
             }
            },
            "type": "scattergeo"
           }
          ],
          "scattergl": [
           {
            "marker": {
             "colorbar": {
              "outlinewidth": 0,
              "ticks": ""
             }
            },
            "type": "scattergl"
           }
          ],
          "scattermapbox": [
           {
            "marker": {
             "colorbar": {
              "outlinewidth": 0,
              "ticks": ""
             }
            },
            "type": "scattermapbox"
           }
          ],
          "scatterpolar": [
           {
            "marker": {
             "colorbar": {
              "outlinewidth": 0,
              "ticks": ""
             }
            },
            "type": "scatterpolar"
           }
          ],
          "scatterpolargl": [
           {
            "marker": {
             "colorbar": {
              "outlinewidth": 0,
              "ticks": ""
             }
            },
            "type": "scatterpolargl"
           }
          ],
          "scatterternary": [
           {
            "marker": {
             "colorbar": {
              "outlinewidth": 0,
              "ticks": ""
             }
            },
            "type": "scatterternary"
           }
          ],
          "surface": [
           {
            "colorbar": {
             "outlinewidth": 0,
             "ticks": ""
            },
            "colorscale": [
             [
              0,
              "#0d0887"
             ],
             [
              0.1111111111111111,
              "#46039f"
             ],
             [
              0.2222222222222222,
              "#7201a8"
             ],
             [
              0.3333333333333333,
              "#9c179e"
             ],
             [
              0.4444444444444444,
              "#bd3786"
             ],
             [
              0.5555555555555556,
              "#d8576b"
             ],
             [
              0.6666666666666666,
              "#ed7953"
             ],
             [
              0.7777777777777778,
              "#fb9f3a"
             ],
             [
              0.8888888888888888,
              "#fdca26"
             ],
             [
              1,
              "#f0f921"
             ]
            ],
            "type": "surface"
           }
          ],
          "table": [
           {
            "cells": {
             "fill": {
              "color": "#EBF0F8"
             },
             "line": {
              "color": "white"
             }
            },
            "header": {
             "fill": {
              "color": "#C8D4E3"
             },
             "line": {
              "color": "white"
             }
            },
            "type": "table"
           }
          ]
         },
         "layout": {
          "annotationdefaults": {
           "arrowcolor": "#2a3f5f",
           "arrowhead": 0,
           "arrowwidth": 1
          },
          "autotypenumbers": "strict",
          "coloraxis": {
           "colorbar": {
            "outlinewidth": 0,
            "ticks": ""
           }
          },
          "colorscale": {
           "diverging": [
            [
             0,
             "#8e0152"
            ],
            [
             0.1,
             "#c51b7d"
            ],
            [
             0.2,
             "#de77ae"
            ],
            [
             0.3,
             "#f1b6da"
            ],
            [
             0.4,
             "#fde0ef"
            ],
            [
             0.5,
             "#f7f7f7"
            ],
            [
             0.6,
             "#e6f5d0"
            ],
            [
             0.7,
             "#b8e186"
            ],
            [
             0.8,
             "#7fbc41"
            ],
            [
             0.9,
             "#4d9221"
            ],
            [
             1,
             "#276419"
            ]
           ],
           "sequential": [
            [
             0,
             "#0d0887"
            ],
            [
             0.1111111111111111,
             "#46039f"
            ],
            [
             0.2222222222222222,
             "#7201a8"
            ],
            [
             0.3333333333333333,
             "#9c179e"
            ],
            [
             0.4444444444444444,
             "#bd3786"
            ],
            [
             0.5555555555555556,
             "#d8576b"
            ],
            [
             0.6666666666666666,
             "#ed7953"
            ],
            [
             0.7777777777777778,
             "#fb9f3a"
            ],
            [
             0.8888888888888888,
             "#fdca26"
            ],
            [
             1,
             "#f0f921"
            ]
           ],
           "sequentialminus": [
            [
             0,
             "#0d0887"
            ],
            [
             0.1111111111111111,
             "#46039f"
            ],
            [
             0.2222222222222222,
             "#7201a8"
            ],
            [
             0.3333333333333333,
             "#9c179e"
            ],
            [
             0.4444444444444444,
             "#bd3786"
            ],
            [
             0.5555555555555556,
             "#d8576b"
            ],
            [
             0.6666666666666666,
             "#ed7953"
            ],
            [
             0.7777777777777778,
             "#fb9f3a"
            ],
            [
             0.8888888888888888,
             "#fdca26"
            ],
            [
             1,
             "#f0f921"
            ]
           ]
          },
          "colorway": [
           "#636efa",
           "#EF553B",
           "#00cc96",
           "#ab63fa",
           "#FFA15A",
           "#19d3f3",
           "#FF6692",
           "#B6E880",
           "#FF97FF",
           "#FECB52"
          ],
          "font": {
           "color": "#2a3f5f"
          },
          "geo": {
           "bgcolor": "white",
           "lakecolor": "white",
           "landcolor": "#E5ECF6",
           "showlakes": true,
           "showland": true,
           "subunitcolor": "white"
          },
          "hoverlabel": {
           "align": "left"
          },
          "hovermode": "closest",
          "mapbox": {
           "style": "light"
          },
          "paper_bgcolor": "white",
          "plot_bgcolor": "#E5ECF6",
          "polar": {
           "angularaxis": {
            "gridcolor": "white",
            "linecolor": "white",
            "ticks": ""
           },
           "bgcolor": "#E5ECF6",
           "radialaxis": {
            "gridcolor": "white",
            "linecolor": "white",
            "ticks": ""
           }
          },
          "scene": {
           "xaxis": {
            "backgroundcolor": "#E5ECF6",
            "gridcolor": "white",
            "gridwidth": 2,
            "linecolor": "white",
            "showbackground": true,
            "ticks": "",
            "zerolinecolor": "white"
           },
           "yaxis": {
            "backgroundcolor": "#E5ECF6",
            "gridcolor": "white",
            "gridwidth": 2,
            "linecolor": "white",
            "showbackground": true,
            "ticks": "",
            "zerolinecolor": "white"
           },
           "zaxis": {
            "backgroundcolor": "#E5ECF6",
            "gridcolor": "white",
            "gridwidth": 2,
            "linecolor": "white",
            "showbackground": true,
            "ticks": "",
            "zerolinecolor": "white"
           }
          },
          "shapedefaults": {
           "line": {
            "color": "#2a3f5f"
           }
          },
          "ternary": {
           "aaxis": {
            "gridcolor": "white",
            "linecolor": "white",
            "ticks": ""
           },
           "baxis": {
            "gridcolor": "white",
            "linecolor": "white",
            "ticks": ""
           },
           "bgcolor": "#E5ECF6",
           "caxis": {
            "gridcolor": "white",
            "linecolor": "white",
            "ticks": ""
           }
          },
          "title": {
           "x": 0.05
          },
          "xaxis": {
           "automargin": true,
           "gridcolor": "white",
           "linecolor": "white",
           "ticks": "",
           "title": {
            "standoff": 15
           },
           "zerolinecolor": "white",
           "zerolinewidth": 2
          },
          "yaxis": {
           "automargin": true,
           "gridcolor": "white",
           "linecolor": "white",
           "ticks": "",
           "title": {
            "standoff": 15
           },
           "zerolinecolor": "white",
           "zerolinewidth": 2
          }
         }
        },
        "xaxis": {
         "anchor": "y",
         "domain": [
          0,
          1
         ],
         "title": {
          "text": "m"
         }
        },
        "yaxis": {
         "anchor": "x",
         "domain": [
          0,
          1
         ],
         "title": {
          "text": "Solve time (s)"
         },
         "type": "log"
        }
       }
      }
     },
     "metadata": {},
     "output_type": "display_data"
    },
    {
     "data": {
      "application/vnd.plotly.v1+json": {
       "config": {
        "plotlyServerURL": "https://plot.ly"
       },
       "data": [
        {
         "hovertemplate": "x=%{x}<br>y=%{y}<extra></extra>",
         "legendgroup": "",
         "marker": {
          "color": "#636efa",
          "size": 10,
          "symbol": "circle"
         },
         "mode": "markers",
         "name": "",
         "orientation": "v",
         "showlegend": false,
         "type": "scatter",
         "x": [
          50,
          50,
          50,
          50,
          50,
          100,
          100,
          100,
          100,
          100,
          150,
          150,
          150,
          150,
          150,
          200,
          200,
          200,
          200,
          200,
          250,
          250,
          250,
          250,
          250,
          300,
          300,
          300,
          300,
          300,
          350,
          350,
          350,
          350,
          350,
          400,
          400,
          400,
          400,
          400,
          450,
          450,
          450,
          450,
          450,
          500,
          500,
          500,
          500,
          500,
          666,
          666,
          666,
          666,
          666,
          832,
          832,
          832,
          832,
          832,
          1000,
          1000,
          1000,
          1000,
          1000
         ],
         "xaxis": "x",
         "y": [
          0.17422795295715332,
          0.10892701148986816,
          0.2486131191253662,
          0.13392281532287598,
          0.1399369239807129,
          0.13623881340026855,
          0.15148496627807617,
          0.1579887866973877,
          0.18575477600097656,
          0.2088019847869873,
          0.1657869815826416,
          0.16794610023498535,
          0.17702913284301758,
          0.1913459300994873,
          0.234086275100708,
          0.22714614868164062,
          0.6366949081420898,
          0.2205028533935547,
          0.2459268569946289,
          0.2747039794921875,
          0.20778703689575195,
          0.2281510829925537,
          0.2550208568572998,
          0.2750699520111084,
          0.33208179473876953,
          0.2680671215057373,
          0.32187390327453613,
          0.31059908866882324,
          0.37781715393066406,
          0.4998359680175781,
          0.8577899932861328,
          0.45972299575805664,
          0.4827568531036377,
          0.4118208885192871,
          0.563525915145874,
          0.6271159648895264,
          0.4624288082122803,
          0.3704390525817871,
          0.4426729679107666,
          0.5640888214111328,
          0.2915480136871338,
          0.38276100158691406,
          0.32550716400146484,
          0.410355806350708,
          0.4971449375152588,
          0.339069128036499,
          0.48552584648132324,
          0.3879070281982422,
          0.4501330852508545,
          0.6385049819946289,
          0.37990236282348633,
          0.5208041667938232,
          0.5168638229370117,
          0.589259147644043,
          0.6553559303283691,
          0.6655881404876709,
          0.7533001899719238,
          0.5216901302337646,
          0.6794939041137695,
          1.0949339866638184,
          0.5638608932495117,
          0.6844098567962646,
          0.6932191848754883,
          0.9984819889068604,
          0.9509797096252441
         ],
         "yaxis": "y"
        },
        {
         "marker": {
          "size": 10
         },
         "mode": "markers",
         "name": "Primal",
         "type": "scatter",
         "x": [
          50,
          50,
          50,
          50,
          50,
          100,
          100,
          100,
          100,
          100,
          150,
          150,
          150,
          150,
          150,
          200,
          200,
          200,
          200,
          200,
          250,
          250,
          250,
          250,
          250,
          300,
          300,
          300,
          300,
          300,
          350,
          350,
          350,
          350,
          350,
          400,
          400,
          400,
          400,
          400,
          450,
          450,
          450,
          450,
          450,
          500,
          500,
          500,
          500,
          500,
          666,
          666,
          666,
          666,
          666,
          832,
          832,
          832,
          832,
          832,
          1000,
          1000,
          1000,
          1000,
          1000
         ],
         "y": [
          0.17422795295715332,
          0.10892701148986816,
          0.2486131191253662,
          0.13392281532287598,
          0.1399369239807129,
          0.13623881340026855,
          0.15148496627807617,
          0.1579887866973877,
          0.18575477600097656,
          0.2088019847869873,
          0.1657869815826416,
          0.16794610023498535,
          0.17702913284301758,
          0.1913459300994873,
          0.234086275100708,
          0.22714614868164062,
          0.6366949081420898,
          0.2205028533935547,
          0.2459268569946289,
          0.2747039794921875,
          0.20778703689575195,
          0.2281510829925537,
          0.2550208568572998,
          0.2750699520111084,
          0.33208179473876953,
          0.2680671215057373,
          0.32187390327453613,
          0.31059908866882324,
          0.37781715393066406,
          0.4998359680175781,
          0.8577899932861328,
          0.45972299575805664,
          0.4827568531036377,
          0.4118208885192871,
          0.563525915145874,
          0.6271159648895264,
          0.4624288082122803,
          0.3704390525817871,
          0.4426729679107666,
          0.5640888214111328,
          0.2915480136871338,
          0.38276100158691406,
          0.32550716400146484,
          0.410355806350708,
          0.4971449375152588,
          0.339069128036499,
          0.48552584648132324,
          0.3879070281982422,
          0.4501330852508545,
          0.6385049819946289,
          0.37990236282348633,
          0.5208041667938232,
          0.5168638229370117,
          0.589259147644043,
          0.6553559303283691,
          0.6655881404876709,
          0.7533001899719238,
          0.5216901302337646,
          0.6794939041137695,
          1.0949339866638184,
          0.5638608932495117,
          0.6844098567962646,
          0.6932191848754883,
          0.9984819889068604,
          0.9509797096252441
         ]
        },
        {
         "marker": {
          "size": 10
         },
         "mode": "markers",
         "name": "Dual (linear)",
         "type": "scatter",
         "x": [
          50,
          50,
          50,
          50,
          50,
          100,
          100,
          100,
          100,
          100,
          150,
          150,
          150,
          150,
          150,
          200,
          200,
          200,
          200,
          200,
          250,
          250,
          250,
          250,
          250,
          300,
          300,
          300,
          300,
          300,
          350,
          350,
          350,
          350,
          350,
          400,
          400,
          400,
          400,
          400,
          450,
          450,
          450,
          450,
          450,
          500,
          500,
          500,
          500,
          500,
          666,
          666,
          666,
          666,
          666,
          832,
          832,
          832,
          832,
          832,
          1000,
          1000,
          1000,
          1000,
          1000
         ],
         "y": [
          0.1521298885345459,
          0.15314912796020508,
          0.14026498794555664,
          0.15549802780151367,
          0.15973186492919922,
          0.3584599494934082,
          0.2817978858947754,
          0.3287820816040039,
          0.3088502883911133,
          0.31580686569213867,
          0.6007781028747559,
          0.6135411262512207,
          0.6057429313659668,
          0.6657669544219971,
          0.6752691268920898,
          1.1687119007110596,
          1.1248140335083008,
          1.6436970233917236,
          1.1699459552764893,
          1.3656399250030518,
          1.906538963317871,
          1.8554399013519287,
          3.029923915863037,
          1.788715124130249,
          2.2247989177703857,
          3.3178648948669434,
          2.703212022781372,
          2.7617409229278564,
          2.9066967964172363,
          3.3546338081359863,
          4.9640209674835205,
          6.25179386138916,
          4.882831811904907,
          6.39922571182251,
          4.216707944869995,
          6.461045026779175,
          5.5228588581085205,
          6.627400875091553,
          6.444794178009033,
          8.072744846343994,
          7.239386081695557,
          6.515876054763794,
          6.02095890045166,
          6.532594919204712,
          8.158459901809692,
          9.638139009475708,
          9.754041194915771,
          11.79430603981018,
          7.826545000076294,
          9.933686971664429,
          25.340272903442383,
          20.425364017486572,
          21.204967737197876,
          23.509360790252686,
          19.985594034194946,
          42.96955108642578,
          37.43182373046875,
          55.38206911087036,
          36.9428870677948,
          38.13835906982422,
          98.40606784820557,
          64.78949117660522,
          57.570960998535156,
          56.84722590446472,
          64.11867499351501
         ]
        },
        {
         "marker": {
          "size": 10
         },
         "mode": "markers",
         "name": "Dual (kernel)",
         "type": "scatter",
         "x": [
          50,
          50,
          50,
          50,
          50,
          100,
          100,
          100,
          100,
          100,
          150,
          150,
          150,
          150,
          150,
          200,
          200,
          200,
          200,
          200,
          250,
          250,
          250,
          250,
          250,
          300,
          300,
          300,
          300,
          300,
          350,
          350,
          350,
          350,
          350,
          400,
          400,
          400,
          400,
          400,
          450,
          450,
          450,
          450,
          450,
          500,
          500,
          500,
          500,
          500,
          666,
          666,
          666,
          666,
          666,
          832,
          832,
          832,
          832,
          832,
          1000,
          1000,
          1000,
          1000,
          1000
         ],
         "y": [
          0.14147305488586426,
          0.18850398063659668,
          0.14862585067749023,
          0.14752697944641113,
          0.14562106132507324,
          0.27349209785461426,
          0.30779290199279785,
          0.2904520034790039,
          0.3646259307861328,
          0.4709041118621826,
          0.5725290775299072,
          0.5786168575286865,
          0.6211130619049072,
          0.6948320865631104,
          0.608910083770752,
          0.9938058853149414,
          1.0977518558502197,
          0.989980936050415,
          1.1494348049163818,
          1.2697079181671143,
          1.8272778987884521,
          1.9159517288208008,
          1.7172482013702393,
          2.9181768894195557,
          2.083674907684326,
          3.497903823852539,
          2.7986690998077393,
          2.6756680011749268,
          4.390086889266968,
          2.957932710647583,
          3.458362102508545,
          3.3297321796417236,
          15.713850736618042,
          5.684047222137451,
          6.096844911575317,
          7.899112224578857,
          8.201596975326538,
          7.048600196838379,
          5.5727832317352295,
          5.006557941436768,
          10.177386999130249,
          7.982436895370483,
          8.415191173553467,
          8.956597089767456,
          7.9536848068237305,
          8.862491130828857,
          10.098742008209229,
          9.16629409790039,
          9.016597986221313,
          9.687535285949707,
          22.763992071151733,
          21.643505811691284,
          21.91586399078369,
          25.905076026916504,
          21.457802057266235,
          38.1610791683197,
          46.63747978210449,
          43.53872203826904,
          34.36294913291931,
          40.08972120285034,
          68.80164098739624,
          51.37207388877869,
          47.3767192363739,
          51.23834705352783,
          56.897477865219116
         ]
        }
       ],
       "layout": {
        "legend": {
         "title": {
          "text": "Nodes"
         },
         "tracegroupgap": 0
        },
        "margin": {
         "t": 60
        },
        "template": {
         "data": {
          "bar": [
           {
            "error_x": {
             "color": "#2a3f5f"
            },
            "error_y": {
             "color": "#2a3f5f"
            },
            "marker": {
             "line": {
              "color": "#E5ECF6",
              "width": 0.5
             },
             "pattern": {
              "fillmode": "overlay",
              "size": 10,
              "solidity": 0.2
             }
            },
            "type": "bar"
           }
          ],
          "barpolar": [
           {
            "marker": {
             "line": {
              "color": "#E5ECF6",
              "width": 0.5
             },
             "pattern": {
              "fillmode": "overlay",
              "size": 10,
              "solidity": 0.2
             }
            },
            "type": "barpolar"
           }
          ],
          "carpet": [
           {
            "aaxis": {
             "endlinecolor": "#2a3f5f",
             "gridcolor": "white",
             "linecolor": "white",
             "minorgridcolor": "white",
             "startlinecolor": "#2a3f5f"
            },
            "baxis": {
             "endlinecolor": "#2a3f5f",
             "gridcolor": "white",
             "linecolor": "white",
             "minorgridcolor": "white",
             "startlinecolor": "#2a3f5f"
            },
            "type": "carpet"
           }
          ],
          "choropleth": [
           {
            "colorbar": {
             "outlinewidth": 0,
             "ticks": ""
            },
            "type": "choropleth"
           }
          ],
          "contour": [
           {
            "colorbar": {
             "outlinewidth": 0,
             "ticks": ""
            },
            "colorscale": [
             [
              0,
              "#0d0887"
             ],
             [
              0.1111111111111111,
              "#46039f"
             ],
             [
              0.2222222222222222,
              "#7201a8"
             ],
             [
              0.3333333333333333,
              "#9c179e"
             ],
             [
              0.4444444444444444,
              "#bd3786"
             ],
             [
              0.5555555555555556,
              "#d8576b"
             ],
             [
              0.6666666666666666,
              "#ed7953"
             ],
             [
              0.7777777777777778,
              "#fb9f3a"
             ],
             [
              0.8888888888888888,
              "#fdca26"
             ],
             [
              1,
              "#f0f921"
             ]
            ],
            "type": "contour"
           }
          ],
          "contourcarpet": [
           {
            "colorbar": {
             "outlinewidth": 0,
             "ticks": ""
            },
            "type": "contourcarpet"
           }
          ],
          "heatmap": [
           {
            "colorbar": {
             "outlinewidth": 0,
             "ticks": ""
            },
            "colorscale": [
             [
              0,
              "#0d0887"
             ],
             [
              0.1111111111111111,
              "#46039f"
             ],
             [
              0.2222222222222222,
              "#7201a8"
             ],
             [
              0.3333333333333333,
              "#9c179e"
             ],
             [
              0.4444444444444444,
              "#bd3786"
             ],
             [
              0.5555555555555556,
              "#d8576b"
             ],
             [
              0.6666666666666666,
              "#ed7953"
             ],
             [
              0.7777777777777778,
              "#fb9f3a"
             ],
             [
              0.8888888888888888,
              "#fdca26"
             ],
             [
              1,
              "#f0f921"
             ]
            ],
            "type": "heatmap"
           }
          ],
          "heatmapgl": [
           {
            "colorbar": {
             "outlinewidth": 0,
             "ticks": ""
            },
            "colorscale": [
             [
              0,
              "#0d0887"
             ],
             [
              0.1111111111111111,
              "#46039f"
             ],
             [
              0.2222222222222222,
              "#7201a8"
             ],
             [
              0.3333333333333333,
              "#9c179e"
             ],
             [
              0.4444444444444444,
              "#bd3786"
             ],
             [
              0.5555555555555556,
              "#d8576b"
             ],
             [
              0.6666666666666666,
              "#ed7953"
             ],
             [
              0.7777777777777778,
              "#fb9f3a"
             ],
             [
              0.8888888888888888,
              "#fdca26"
             ],
             [
              1,
              "#f0f921"
             ]
            ],
            "type": "heatmapgl"
           }
          ],
          "histogram": [
           {
            "marker": {
             "pattern": {
              "fillmode": "overlay",
              "size": 10,
              "solidity": 0.2
             }
            },
            "type": "histogram"
           }
          ],
          "histogram2d": [
           {
            "colorbar": {
             "outlinewidth": 0,
             "ticks": ""
            },
            "colorscale": [
             [
              0,
              "#0d0887"
             ],
             [
              0.1111111111111111,
              "#46039f"
             ],
             [
              0.2222222222222222,
              "#7201a8"
             ],
             [
              0.3333333333333333,
              "#9c179e"
             ],
             [
              0.4444444444444444,
              "#bd3786"
             ],
             [
              0.5555555555555556,
              "#d8576b"
             ],
             [
              0.6666666666666666,
              "#ed7953"
             ],
             [
              0.7777777777777778,
              "#fb9f3a"
             ],
             [
              0.8888888888888888,
              "#fdca26"
             ],
             [
              1,
              "#f0f921"
             ]
            ],
            "type": "histogram2d"
           }
          ],
          "histogram2dcontour": [
           {
            "colorbar": {
             "outlinewidth": 0,
             "ticks": ""
            },
            "colorscale": [
             [
              0,
              "#0d0887"
             ],
             [
              0.1111111111111111,
              "#46039f"
             ],
             [
              0.2222222222222222,
              "#7201a8"
             ],
             [
              0.3333333333333333,
              "#9c179e"
             ],
             [
              0.4444444444444444,
              "#bd3786"
             ],
             [
              0.5555555555555556,
              "#d8576b"
             ],
             [
              0.6666666666666666,
              "#ed7953"
             ],
             [
              0.7777777777777778,
              "#fb9f3a"
             ],
             [
              0.8888888888888888,
              "#fdca26"
             ],
             [
              1,
              "#f0f921"
             ]
            ],
            "type": "histogram2dcontour"
           }
          ],
          "mesh3d": [
           {
            "colorbar": {
             "outlinewidth": 0,
             "ticks": ""
            },
            "type": "mesh3d"
           }
          ],
          "parcoords": [
           {
            "line": {
             "colorbar": {
              "outlinewidth": 0,
              "ticks": ""
             }
            },
            "type": "parcoords"
           }
          ],
          "pie": [
           {
            "automargin": true,
            "type": "pie"
           }
          ],
          "scatter": [
           {
            "fillpattern": {
             "fillmode": "overlay",
             "size": 10,
             "solidity": 0.2
            },
            "type": "scatter"
           }
          ],
          "scatter3d": [
           {
            "line": {
             "colorbar": {
              "outlinewidth": 0,
              "ticks": ""
             }
            },
            "marker": {
             "colorbar": {
              "outlinewidth": 0,
              "ticks": ""
             }
            },
            "type": "scatter3d"
           }
          ],
          "scattercarpet": [
           {
            "marker": {
             "colorbar": {
              "outlinewidth": 0,
              "ticks": ""
             }
            },
            "type": "scattercarpet"
           }
          ],
          "scattergeo": [
           {
            "marker": {
             "colorbar": {
              "outlinewidth": 0,
              "ticks": ""
             }
            },
            "type": "scattergeo"
           }
          ],
          "scattergl": [
           {
            "marker": {
             "colorbar": {
              "outlinewidth": 0,
              "ticks": ""
             }
            },
            "type": "scattergl"
           }
          ],
          "scattermapbox": [
           {
            "marker": {
             "colorbar": {
              "outlinewidth": 0,
              "ticks": ""
             }
            },
            "type": "scattermapbox"
           }
          ],
          "scatterpolar": [
           {
            "marker": {
             "colorbar": {
              "outlinewidth": 0,
              "ticks": ""
             }
            },
            "type": "scatterpolar"
           }
          ],
          "scatterpolargl": [
           {
            "marker": {
             "colorbar": {
              "outlinewidth": 0,
              "ticks": ""
             }
            },
            "type": "scatterpolargl"
           }
          ],
          "scatterternary": [
           {
            "marker": {
             "colorbar": {
              "outlinewidth": 0,
              "ticks": ""
             }
            },
            "type": "scatterternary"
           }
          ],
          "surface": [
           {
            "colorbar": {
             "outlinewidth": 0,
             "ticks": ""
            },
            "colorscale": [
             [
              0,
              "#0d0887"
             ],
             [
              0.1111111111111111,
              "#46039f"
             ],
             [
              0.2222222222222222,
              "#7201a8"
             ],
             [
              0.3333333333333333,
              "#9c179e"
             ],
             [
              0.4444444444444444,
              "#bd3786"
             ],
             [
              0.5555555555555556,
              "#d8576b"
             ],
             [
              0.6666666666666666,
              "#ed7953"
             ],
             [
              0.7777777777777778,
              "#fb9f3a"
             ],
             [
              0.8888888888888888,
              "#fdca26"
             ],
             [
              1,
              "#f0f921"
             ]
            ],
            "type": "surface"
           }
          ],
          "table": [
           {
            "cells": {
             "fill": {
              "color": "#EBF0F8"
             },
             "line": {
              "color": "white"
             }
            },
            "header": {
             "fill": {
              "color": "#C8D4E3"
             },
             "line": {
              "color": "white"
             }
            },
            "type": "table"
           }
          ]
         },
         "layout": {
          "annotationdefaults": {
           "arrowcolor": "#2a3f5f",
           "arrowhead": 0,
           "arrowwidth": 1
          },
          "autotypenumbers": "strict",
          "coloraxis": {
           "colorbar": {
            "outlinewidth": 0,
            "ticks": ""
           }
          },
          "colorscale": {
           "diverging": [
            [
             0,
             "#8e0152"
            ],
            [
             0.1,
             "#c51b7d"
            ],
            [
             0.2,
             "#de77ae"
            ],
            [
             0.3,
             "#f1b6da"
            ],
            [
             0.4,
             "#fde0ef"
            ],
            [
             0.5,
             "#f7f7f7"
            ],
            [
             0.6,
             "#e6f5d0"
            ],
            [
             0.7,
             "#b8e186"
            ],
            [
             0.8,
             "#7fbc41"
            ],
            [
             0.9,
             "#4d9221"
            ],
            [
             1,
             "#276419"
            ]
           ],
           "sequential": [
            [
             0,
             "#0d0887"
            ],
            [
             0.1111111111111111,
             "#46039f"
            ],
            [
             0.2222222222222222,
             "#7201a8"
            ],
            [
             0.3333333333333333,
             "#9c179e"
            ],
            [
             0.4444444444444444,
             "#bd3786"
            ],
            [
             0.5555555555555556,
             "#d8576b"
            ],
            [
             0.6666666666666666,
             "#ed7953"
            ],
            [
             0.7777777777777778,
             "#fb9f3a"
            ],
            [
             0.8888888888888888,
             "#fdca26"
            ],
            [
             1,
             "#f0f921"
            ]
           ],
           "sequentialminus": [
            [
             0,
             "#0d0887"
            ],
            [
             0.1111111111111111,
             "#46039f"
            ],
            [
             0.2222222222222222,
             "#7201a8"
            ],
            [
             0.3333333333333333,
             "#9c179e"
            ],
            [
             0.4444444444444444,
             "#bd3786"
            ],
            [
             0.5555555555555556,
             "#d8576b"
            ],
            [
             0.6666666666666666,
             "#ed7953"
            ],
            [
             0.7777777777777778,
             "#fb9f3a"
            ],
            [
             0.8888888888888888,
             "#fdca26"
            ],
            [
             1,
             "#f0f921"
            ]
           ]
          },
          "colorway": [
           "#636efa",
           "#EF553B",
           "#00cc96",
           "#ab63fa",
           "#FFA15A",
           "#19d3f3",
           "#FF6692",
           "#B6E880",
           "#FF97FF",
           "#FECB52"
          ],
          "font": {
           "color": "#2a3f5f"
          },
          "geo": {
           "bgcolor": "white",
           "lakecolor": "white",
           "landcolor": "#E5ECF6",
           "showlakes": true,
           "showland": true,
           "subunitcolor": "white"
          },
          "hoverlabel": {
           "align": "left"
          },
          "hovermode": "closest",
          "mapbox": {
           "style": "light"
          },
          "paper_bgcolor": "white",
          "plot_bgcolor": "#E5ECF6",
          "polar": {
           "angularaxis": {
            "gridcolor": "white",
            "linecolor": "white",
            "ticks": ""
           },
           "bgcolor": "#E5ECF6",
           "radialaxis": {
            "gridcolor": "white",
            "linecolor": "white",
            "ticks": ""
           }
          },
          "scene": {
           "xaxis": {
            "backgroundcolor": "#E5ECF6",
            "gridcolor": "white",
            "gridwidth": 2,
            "linecolor": "white",
            "showbackground": true,
            "ticks": "",
            "zerolinecolor": "white"
           },
           "yaxis": {
            "backgroundcolor": "#E5ECF6",
            "gridcolor": "white",
            "gridwidth": 2,
            "linecolor": "white",
            "showbackground": true,
            "ticks": "",
            "zerolinecolor": "white"
           },
           "zaxis": {
            "backgroundcolor": "#E5ECF6",
            "gridcolor": "white",
            "gridwidth": 2,
            "linecolor": "white",
            "showbackground": true,
            "ticks": "",
            "zerolinecolor": "white"
           }
          },
          "shapedefaults": {
           "line": {
            "color": "#2a3f5f"
           }
          },
          "ternary": {
           "aaxis": {
            "gridcolor": "white",
            "linecolor": "white",
            "ticks": ""
           },
           "baxis": {
            "gridcolor": "white",
            "linecolor": "white",
            "ticks": ""
           },
           "bgcolor": "#E5ECF6",
           "caxis": {
            "gridcolor": "white",
            "linecolor": "white",
            "ticks": ""
           }
          },
          "title": {
           "x": 0.05
          },
          "xaxis": {
           "automargin": true,
           "gridcolor": "white",
           "linecolor": "white",
           "ticks": "",
           "title": {
            "standoff": 15
           },
           "zerolinecolor": "white",
           "zerolinewidth": 2
          },
          "yaxis": {
           "automargin": true,
           "gridcolor": "white",
           "linecolor": "white",
           "ticks": "",
           "title": {
            "standoff": 15
           },
           "zerolinecolor": "white",
           "zerolinewidth": 2
          }
         }
        },
        "xaxis": {
         "anchor": "y",
         "domain": [
          0,
          1
         ],
         "title": {
          "text": "m"
         }
        },
        "yaxis": {
         "anchor": "x",
         "domain": [
          0,
          1
         ],
         "title": {
          "text": "Solve time (s)"
         }
        }
       }
      }
     },
     "metadata": {},
     "output_type": "display_data"
    },
    {
     "data": {
      "application/vnd.plotly.v1+json": {
       "config": {
        "plotlyServerURL": "https://plot.ly"
       },
       "data": [
        {
         "hovertemplate": "x=%{x}<br>y=%{y}<extra></extra>",
         "legendgroup": "",
         "marker": {
          "color": "#636efa",
          "size": 10,
          "symbol": "circle"
         },
         "mode": "markers",
         "name": "",
         "orientation": "v",
         "showlegend": false,
         "type": "scatter",
         "x": [
          50,
          50,
          50,
          50,
          50,
          100,
          100,
          100,
          100,
          100,
          150,
          150,
          150,
          150,
          150,
          200,
          200,
          200,
          200,
          200,
          250,
          250,
          250,
          250,
          250,
          300,
          300,
          300,
          300,
          300,
          350,
          350,
          350,
          350,
          350,
          400,
          400,
          400,
          400,
          400,
          450,
          450,
          450,
          450,
          450,
          500,
          500,
          500,
          500,
          500,
          666,
          666,
          666,
          666,
          666,
          832,
          832,
          832,
          832,
          832,
          1000,
          1000,
          1000,
          1000,
          1000
         ],
         "xaxis": "x",
         "y": [
          15,
          12,
          13,
          19,
          22,
          15,
          16,
          21,
          24,
          28,
          17,
          17,
          20,
          23,
          33,
          19,
          19,
          24,
          30,
          38,
          16,
          22,
          26,
          30,
          41,
          19,
          23,
          23,
          32,
          44,
          20,
          23,
          26,
          33,
          41,
          19,
          22,
          25,
          35,
          46,
          21,
          24,
          25,
          36,
          48,
          21,
          26,
          28,
          35,
          46,
          20,
          26,
          29,
          38,
          45,
          22,
          27,
          28,
          36,
          45,
          26,
          31,
          29,
          42,
          49
         ],
         "yaxis": "y"
        },
        {
         "marker": {
          "size": 10
         },
         "mode": "markers",
         "name": "Primal",
         "type": "scatter",
         "x": [
          50,
          50,
          50,
          50,
          50,
          100,
          100,
          100,
          100,
          100,
          150,
          150,
          150,
          150,
          150,
          200,
          200,
          200,
          200,
          200,
          250,
          250,
          250,
          250,
          250,
          300,
          300,
          300,
          300,
          300,
          350,
          350,
          350,
          350,
          350,
          400,
          400,
          400,
          400,
          400,
          450,
          450,
          450,
          450,
          450,
          500,
          500,
          500,
          500,
          500,
          666,
          666,
          666,
          666,
          666,
          832,
          832,
          832,
          832,
          832,
          1000,
          1000,
          1000,
          1000,
          1000
         ],
         "y": [
          15,
          12,
          13,
          19,
          22,
          15,
          16,
          21,
          24,
          28,
          17,
          17,
          20,
          23,
          33,
          19,
          19,
          24,
          30,
          38,
          16,
          22,
          26,
          30,
          41,
          19,
          23,
          23,
          32,
          44,
          20,
          23,
          26,
          33,
          41,
          19,
          22,
          25,
          35,
          46,
          21,
          24,
          25,
          36,
          48,
          21,
          26,
          28,
          35,
          46,
          20,
          26,
          29,
          38,
          45,
          22,
          27,
          28,
          36,
          45,
          26,
          31,
          29,
          42,
          49
         ]
        },
        {
         "marker": {
          "size": 10
         },
         "mode": "markers",
         "name": "Dual (linear)",
         "type": "scatter",
         "x": [
          50,
          50,
          50,
          50,
          50,
          100,
          100,
          100,
          100,
          100,
          150,
          150,
          150,
          150,
          150,
          200,
          200,
          200,
          200,
          200,
          250,
          250,
          250,
          250,
          250,
          300,
          300,
          300,
          300,
          300,
          350,
          350,
          350,
          350,
          350,
          400,
          400,
          400,
          400,
          400,
          450,
          450,
          450,
          450,
          450,
          500,
          500,
          500,
          500,
          500,
          666,
          666,
          666,
          666,
          666,
          832,
          832,
          832,
          832,
          832,
          1000,
          1000,
          1000,
          1000,
          1000
         ],
         "y": [
          14,
          13,
          12,
          16,
          14,
          14,
          13,
          19,
          16,
          17,
          16,
          16,
          16,
          17,
          15,
          17,
          16,
          16,
          15,
          17,
          15,
          15,
          20,
          16,
          19,
          18,
          16,
          15,
          17,
          20,
          16,
          19,
          17,
          17,
          17,
          16,
          17,
          18,
          19,
          19,
          18,
          18,
          16,
          18,
          22,
          19,
          20,
          21,
          17,
          19,
          18,
          18,
          19,
          18,
          17,
          20,
          18,
          20,
          22,
          21,
          21,
          18,
          19,
          21,
          20
         ]
        },
        {
         "marker": {
          "size": 10
         },
         "mode": "markers",
         "name": "Dual (kernel)",
         "type": "scatter",
         "x": [
          50,
          50,
          50,
          50,
          50,
          100,
          100,
          100,
          100,
          100,
          150,
          150,
          150,
          150,
          150,
          200,
          200,
          200,
          200,
          200,
          250,
          250,
          250,
          250,
          250,
          300,
          300,
          300,
          300,
          300,
          350,
          350,
          350,
          350,
          350,
          400,
          400,
          400,
          400,
          400,
          450,
          450,
          450,
          450,
          450,
          500,
          500,
          500,
          500,
          500,
          666,
          666,
          666,
          666,
          666,
          832,
          832,
          832,
          832,
          832,
          1000,
          1000,
          1000,
          1000,
          1000
         ],
         "y": [
          13,
          12,
          14,
          15,
          13,
          13,
          16,
          15,
          15,
          14,
          15,
          14,
          16,
          19,
          15,
          14,
          15,
          14,
          17,
          20,
          14,
          15,
          16,
          18,
          18,
          15,
          17,
          15,
          18,
          20,
          16,
          15,
          16,
          19,
          19,
          16,
          18,
          18,
          19,
          18,
          18,
          18,
          18,
          18,
          19,
          16,
          17,
          18,
          17,
          19,
          17,
          17,
          17,
          19,
          19,
          20,
          18,
          19,
          19,
          21,
          18,
          18,
          17,
          19,
          22
         ]
        }
       ],
       "layout": {
        "legend": {
         "title": {
          "text": "Nodes"
         },
         "tracegroupgap": 0
        },
        "margin": {
         "t": 60
        },
        "template": {
         "data": {
          "bar": [
           {
            "error_x": {
             "color": "#2a3f5f"
            },
            "error_y": {
             "color": "#2a3f5f"
            },
            "marker": {
             "line": {
              "color": "#E5ECF6",
              "width": 0.5
             },
             "pattern": {
              "fillmode": "overlay",
              "size": 10,
              "solidity": 0.2
             }
            },
            "type": "bar"
           }
          ],
          "barpolar": [
           {
            "marker": {
             "line": {
              "color": "#E5ECF6",
              "width": 0.5
             },
             "pattern": {
              "fillmode": "overlay",
              "size": 10,
              "solidity": 0.2
             }
            },
            "type": "barpolar"
           }
          ],
          "carpet": [
           {
            "aaxis": {
             "endlinecolor": "#2a3f5f",
             "gridcolor": "white",
             "linecolor": "white",
             "minorgridcolor": "white",
             "startlinecolor": "#2a3f5f"
            },
            "baxis": {
             "endlinecolor": "#2a3f5f",
             "gridcolor": "white",
             "linecolor": "white",
             "minorgridcolor": "white",
             "startlinecolor": "#2a3f5f"
            },
            "type": "carpet"
           }
          ],
          "choropleth": [
           {
            "colorbar": {
             "outlinewidth": 0,
             "ticks": ""
            },
            "type": "choropleth"
           }
          ],
          "contour": [
           {
            "colorbar": {
             "outlinewidth": 0,
             "ticks": ""
            },
            "colorscale": [
             [
              0,
              "#0d0887"
             ],
             [
              0.1111111111111111,
              "#46039f"
             ],
             [
              0.2222222222222222,
              "#7201a8"
             ],
             [
              0.3333333333333333,
              "#9c179e"
             ],
             [
              0.4444444444444444,
              "#bd3786"
             ],
             [
              0.5555555555555556,
              "#d8576b"
             ],
             [
              0.6666666666666666,
              "#ed7953"
             ],
             [
              0.7777777777777778,
              "#fb9f3a"
             ],
             [
              0.8888888888888888,
              "#fdca26"
             ],
             [
              1,
              "#f0f921"
             ]
            ],
            "type": "contour"
           }
          ],
          "contourcarpet": [
           {
            "colorbar": {
             "outlinewidth": 0,
             "ticks": ""
            },
            "type": "contourcarpet"
           }
          ],
          "heatmap": [
           {
            "colorbar": {
             "outlinewidth": 0,
             "ticks": ""
            },
            "colorscale": [
             [
              0,
              "#0d0887"
             ],
             [
              0.1111111111111111,
              "#46039f"
             ],
             [
              0.2222222222222222,
              "#7201a8"
             ],
             [
              0.3333333333333333,
              "#9c179e"
             ],
             [
              0.4444444444444444,
              "#bd3786"
             ],
             [
              0.5555555555555556,
              "#d8576b"
             ],
             [
              0.6666666666666666,
              "#ed7953"
             ],
             [
              0.7777777777777778,
              "#fb9f3a"
             ],
             [
              0.8888888888888888,
              "#fdca26"
             ],
             [
              1,
              "#f0f921"
             ]
            ],
            "type": "heatmap"
           }
          ],
          "heatmapgl": [
           {
            "colorbar": {
             "outlinewidth": 0,
             "ticks": ""
            },
            "colorscale": [
             [
              0,
              "#0d0887"
             ],
             [
              0.1111111111111111,
              "#46039f"
             ],
             [
              0.2222222222222222,
              "#7201a8"
             ],
             [
              0.3333333333333333,
              "#9c179e"
             ],
             [
              0.4444444444444444,
              "#bd3786"
             ],
             [
              0.5555555555555556,
              "#d8576b"
             ],
             [
              0.6666666666666666,
              "#ed7953"
             ],
             [
              0.7777777777777778,
              "#fb9f3a"
             ],
             [
              0.8888888888888888,
              "#fdca26"
             ],
             [
              1,
              "#f0f921"
             ]
            ],
            "type": "heatmapgl"
           }
          ],
          "histogram": [
           {
            "marker": {
             "pattern": {
              "fillmode": "overlay",
              "size": 10,
              "solidity": 0.2
             }
            },
            "type": "histogram"
           }
          ],
          "histogram2d": [
           {
            "colorbar": {
             "outlinewidth": 0,
             "ticks": ""
            },
            "colorscale": [
             [
              0,
              "#0d0887"
             ],
             [
              0.1111111111111111,
              "#46039f"
             ],
             [
              0.2222222222222222,
              "#7201a8"
             ],
             [
              0.3333333333333333,
              "#9c179e"
             ],
             [
              0.4444444444444444,
              "#bd3786"
             ],
             [
              0.5555555555555556,
              "#d8576b"
             ],
             [
              0.6666666666666666,
              "#ed7953"
             ],
             [
              0.7777777777777778,
              "#fb9f3a"
             ],
             [
              0.8888888888888888,
              "#fdca26"
             ],
             [
              1,
              "#f0f921"
             ]
            ],
            "type": "histogram2d"
           }
          ],
          "histogram2dcontour": [
           {
            "colorbar": {
             "outlinewidth": 0,
             "ticks": ""
            },
            "colorscale": [
             [
              0,
              "#0d0887"
             ],
             [
              0.1111111111111111,
              "#46039f"
             ],
             [
              0.2222222222222222,
              "#7201a8"
             ],
             [
              0.3333333333333333,
              "#9c179e"
             ],
             [
              0.4444444444444444,
              "#bd3786"
             ],
             [
              0.5555555555555556,
              "#d8576b"
             ],
             [
              0.6666666666666666,
              "#ed7953"
             ],
             [
              0.7777777777777778,
              "#fb9f3a"
             ],
             [
              0.8888888888888888,
              "#fdca26"
             ],
             [
              1,
              "#f0f921"
             ]
            ],
            "type": "histogram2dcontour"
           }
          ],
          "mesh3d": [
           {
            "colorbar": {
             "outlinewidth": 0,
             "ticks": ""
            },
            "type": "mesh3d"
           }
          ],
          "parcoords": [
           {
            "line": {
             "colorbar": {
              "outlinewidth": 0,
              "ticks": ""
             }
            },
            "type": "parcoords"
           }
          ],
          "pie": [
           {
            "automargin": true,
            "type": "pie"
           }
          ],
          "scatter": [
           {
            "fillpattern": {
             "fillmode": "overlay",
             "size": 10,
             "solidity": 0.2
            },
            "type": "scatter"
           }
          ],
          "scatter3d": [
           {
            "line": {
             "colorbar": {
              "outlinewidth": 0,
              "ticks": ""
             }
            },
            "marker": {
             "colorbar": {
              "outlinewidth": 0,
              "ticks": ""
             }
            },
            "type": "scatter3d"
           }
          ],
          "scattercarpet": [
           {
            "marker": {
             "colorbar": {
              "outlinewidth": 0,
              "ticks": ""
             }
            },
            "type": "scattercarpet"
           }
          ],
          "scattergeo": [
           {
            "marker": {
             "colorbar": {
              "outlinewidth": 0,
              "ticks": ""
             }
            },
            "type": "scattergeo"
           }
          ],
          "scattergl": [
           {
            "marker": {
             "colorbar": {
              "outlinewidth": 0,
              "ticks": ""
             }
            },
            "type": "scattergl"
           }
          ],
          "scattermapbox": [
           {
            "marker": {
             "colorbar": {
              "outlinewidth": 0,
              "ticks": ""
             }
            },
            "type": "scattermapbox"
           }
          ],
          "scatterpolar": [
           {
            "marker": {
             "colorbar": {
              "outlinewidth": 0,
              "ticks": ""
             }
            },
            "type": "scatterpolar"
           }
          ],
          "scatterpolargl": [
           {
            "marker": {
             "colorbar": {
              "outlinewidth": 0,
              "ticks": ""
             }
            },
            "type": "scatterpolargl"
           }
          ],
          "scatterternary": [
           {
            "marker": {
             "colorbar": {
              "outlinewidth": 0,
              "ticks": ""
             }
            },
            "type": "scatterternary"
           }
          ],
          "surface": [
           {
            "colorbar": {
             "outlinewidth": 0,
             "ticks": ""
            },
            "colorscale": [
             [
              0,
              "#0d0887"
             ],
             [
              0.1111111111111111,
              "#46039f"
             ],
             [
              0.2222222222222222,
              "#7201a8"
             ],
             [
              0.3333333333333333,
              "#9c179e"
             ],
             [
              0.4444444444444444,
              "#bd3786"
             ],
             [
              0.5555555555555556,
              "#d8576b"
             ],
             [
              0.6666666666666666,
              "#ed7953"
             ],
             [
              0.7777777777777778,
              "#fb9f3a"
             ],
             [
              0.8888888888888888,
              "#fdca26"
             ],
             [
              1,
              "#f0f921"
             ]
            ],
            "type": "surface"
           }
          ],
          "table": [
           {
            "cells": {
             "fill": {
              "color": "#EBF0F8"
             },
             "line": {
              "color": "white"
             }
            },
            "header": {
             "fill": {
              "color": "#C8D4E3"
             },
             "line": {
              "color": "white"
             }
            },
            "type": "table"
           }
          ]
         },
         "layout": {
          "annotationdefaults": {
           "arrowcolor": "#2a3f5f",
           "arrowhead": 0,
           "arrowwidth": 1
          },
          "autotypenumbers": "strict",
          "coloraxis": {
           "colorbar": {
            "outlinewidth": 0,
            "ticks": ""
           }
          },
          "colorscale": {
           "diverging": [
            [
             0,
             "#8e0152"
            ],
            [
             0.1,
             "#c51b7d"
            ],
            [
             0.2,
             "#de77ae"
            ],
            [
             0.3,
             "#f1b6da"
            ],
            [
             0.4,
             "#fde0ef"
            ],
            [
             0.5,
             "#f7f7f7"
            ],
            [
             0.6,
             "#e6f5d0"
            ],
            [
             0.7,
             "#b8e186"
            ],
            [
             0.8,
             "#7fbc41"
            ],
            [
             0.9,
             "#4d9221"
            ],
            [
             1,
             "#276419"
            ]
           ],
           "sequential": [
            [
             0,
             "#0d0887"
            ],
            [
             0.1111111111111111,
             "#46039f"
            ],
            [
             0.2222222222222222,
             "#7201a8"
            ],
            [
             0.3333333333333333,
             "#9c179e"
            ],
            [
             0.4444444444444444,
             "#bd3786"
            ],
            [
             0.5555555555555556,
             "#d8576b"
            ],
            [
             0.6666666666666666,
             "#ed7953"
            ],
            [
             0.7777777777777778,
             "#fb9f3a"
            ],
            [
             0.8888888888888888,
             "#fdca26"
            ],
            [
             1,
             "#f0f921"
            ]
           ],
           "sequentialminus": [
            [
             0,
             "#0d0887"
            ],
            [
             0.1111111111111111,
             "#46039f"
            ],
            [
             0.2222222222222222,
             "#7201a8"
            ],
            [
             0.3333333333333333,
             "#9c179e"
            ],
            [
             0.4444444444444444,
             "#bd3786"
            ],
            [
             0.5555555555555556,
             "#d8576b"
            ],
            [
             0.6666666666666666,
             "#ed7953"
            ],
            [
             0.7777777777777778,
             "#fb9f3a"
            ],
            [
             0.8888888888888888,
             "#fdca26"
            ],
            [
             1,
             "#f0f921"
            ]
           ]
          },
          "colorway": [
           "#636efa",
           "#EF553B",
           "#00cc96",
           "#ab63fa",
           "#FFA15A",
           "#19d3f3",
           "#FF6692",
           "#B6E880",
           "#FF97FF",
           "#FECB52"
          ],
          "font": {
           "color": "#2a3f5f"
          },
          "geo": {
           "bgcolor": "white",
           "lakecolor": "white",
           "landcolor": "#E5ECF6",
           "showlakes": true,
           "showland": true,
           "subunitcolor": "white"
          },
          "hoverlabel": {
           "align": "left"
          },
          "hovermode": "closest",
          "mapbox": {
           "style": "light"
          },
          "paper_bgcolor": "white",
          "plot_bgcolor": "#E5ECF6",
          "polar": {
           "angularaxis": {
            "gridcolor": "white",
            "linecolor": "white",
            "ticks": ""
           },
           "bgcolor": "#E5ECF6",
           "radialaxis": {
            "gridcolor": "white",
            "linecolor": "white",
            "ticks": ""
           }
          },
          "scene": {
           "xaxis": {
            "backgroundcolor": "#E5ECF6",
            "gridcolor": "white",
            "gridwidth": 2,
            "linecolor": "white",
            "showbackground": true,
            "ticks": "",
            "zerolinecolor": "white"
           },
           "yaxis": {
            "backgroundcolor": "#E5ECF6",
            "gridcolor": "white",
            "gridwidth": 2,
            "linecolor": "white",
            "showbackground": true,
            "ticks": "",
            "zerolinecolor": "white"
           },
           "zaxis": {
            "backgroundcolor": "#E5ECF6",
            "gridcolor": "white",
            "gridwidth": 2,
            "linecolor": "white",
            "showbackground": true,
            "ticks": "",
            "zerolinecolor": "white"
           }
          },
          "shapedefaults": {
           "line": {
            "color": "#2a3f5f"
           }
          },
          "ternary": {
           "aaxis": {
            "gridcolor": "white",
            "linecolor": "white",
            "ticks": ""
           },
           "baxis": {
            "gridcolor": "white",
            "linecolor": "white",
            "ticks": ""
           },
           "bgcolor": "#E5ECF6",
           "caxis": {
            "gridcolor": "white",
            "linecolor": "white",
            "ticks": ""
           }
          },
          "title": {
           "x": 0.05
          },
          "xaxis": {
           "automargin": true,
           "gridcolor": "white",
           "linecolor": "white",
           "ticks": "",
           "title": {
            "standoff": 15
           },
           "zerolinecolor": "white",
           "zerolinewidth": 2
          },
          "yaxis": {
           "automargin": true,
           "gridcolor": "white",
           "linecolor": "white",
           "ticks": "",
           "title": {
            "standoff": 15
           },
           "zerolinecolor": "white",
           "zerolinewidth": 2
          }
         }
        },
        "xaxis": {
         "anchor": "y",
         "domain": [
          0,
          1
         ],
         "title": {
          "text": "m"
         }
        },
        "yaxis": {
         "anchor": "x",
         "domain": [
          0,
          1
         ],
         "title": {
          "text": "Iterations"
         }
        }
       }
      }
     },
     "metadata": {},
     "output_type": "display_data"
    },
    {
     "name": "stdout",
     "output_type": "stream",
     "text": [
      "accuracy heatmap\n"
     ]
    },
    {
     "data": {
      "image/png": "[encoded data removed]",
      "text/plain": [
       "<Figure size 1600x500 with 4 Axes>"
      ]
     },
     "metadata": {},
     "output_type": "display_data"
    }
   ],
   "source": [
    "df = pd.read_pickle(\"dataset/df.pkl\")\n",
    "plot_execution_time(df, \"m\", logy=True)\n",
    "plot_execution_time(df, \"m\", logy=False)\n",
    "plot_iterations(df, \"m\", logy=False)\n",
    "time_heatmap(df, save=True, multiple=True, iris=False)"
   ]
  },
  {
   "attachments": {},
   "cell_type": "markdown",
   "metadata": {},
   "source": [
    "We choose a concrete dataset with fixed nu"
   ]
  },
  {
   "cell_type": "code",
   "execution_count": 6,
   "metadata": {},
   "outputs": [
    {
     "name": "stdout",
     "output_type": "stream",
     "text": [
      "ipopt\n",
      "ipopt\n",
      "ipopt\n"
     ]
    },
    {
     "data": {
      "text/html": [
       "<div>\n",
       "<style scoped>\n",
       "    .dataframe tbody tr th:only-of-type {\n",
       "        vertical-align: middle;\n",
       "    }\n",
       "\n",
       "    .dataframe tbody tr th {\n",
       "        vertical-align: top;\n",
       "    }\n",
       "\n",
       "    .dataframe thead th {\n",
       "        text-align: right;\n",
       "    }\n",
       "</style>\n",
       "<table border=\"1\" class=\"dataframe\">\n",
       "  <thead>\n",
       "    <tr style=\"text-align: right;\">\n",
       "      <th></th>\n",
       "      <th>type</th>\n",
       "      <th>accuracy</th>\n",
       "      <th>gamma</th>\n",
       "      <th>w</th>\n",
       "      <th>iterations</th>\n",
       "      <th>solve time</th>\n",
       "    </tr>\n",
       "  </thead>\n",
       "  <tbody>\n",
       "    <tr>\n",
       "      <th>0</th>\n",
       "      <td>primal</td>\n",
       "      <td>0.98</td>\n",
       "      <td>-6.046114</td>\n",
       "      <td>[2.5755,3.0139,3.071 ,3.4197]</td>\n",
       "      <td>22</td>\n",
       "      <td>0.634856</td>\n",
       "    </tr>\n",
       "    <tr>\n",
       "      <th>1</th>\n",
       "      <td>dual_linear</td>\n",
       "      <td>0.98</td>\n",
       "      <td>-6.046115</td>\n",
       "      <td>[2.5755,3.0139,3.071 ,3.4197]</td>\n",
       "      <td>15</td>\n",
       "      <td>2.302292</td>\n",
       "    </tr>\n",
       "    <tr>\n",
       "      <th>2</th>\n",
       "      <td>sklearn SVC</td>\n",
       "      <td>0.98</td>\n",
       "      <td>-6.044525</td>\n",
       "      <td>[2.5746,3.0135,3.0705,3.4186]</td>\n",
       "      <td>241</td>\n",
       "      <td>0.006306</td>\n",
       "    </tr>\n",
       "  </tbody>\n",
       "</table>\n",
       "</div>"
      ],
      "text/plain": [
       "          type  accuracy     gamma                              w iterations  \\\n",
       "0       primal      0.98 -6.046114  [2.5755,3.0139,3.071 ,3.4197]         22   \n",
       "1  dual_linear      0.98 -6.046115  [2.5755,3.0139,3.071 ,3.4197]         15   \n",
       "2  sklearn SVC      0.98 -6.044525  [2.5746,3.0135,3.0705,3.4186]        241   \n",
       "\n",
       "   solve time  \n",
       "0    0.634856  \n",
       "1    2.302292  \n",
       "2    0.006306  "
      ]
     },
     "execution_count": 6,
     "metadata": {},
     "output_type": "execute_result"
    }
   ],
   "source": [
    "#generate the data\n",
    "data = SVM_data(250,0.2,seed=42)\n",
    "X_train, Y_train, X_test, Y_test = data.get_data()\n",
    "\n",
    "# fit the models for different nu values\n",
    "nu = 1\n",
    "types = ['primal', 'dual_linear', 'dual_gaussian']\n",
    "\n",
    "# create a dataframe to store the results\n",
    "df_250 = pd.DataFrame(columns=['type', 'accuracy', 'gamma', 'w', 'iterations', 'solve time'])\n",
    "\n",
    "#primal\n",
    "primal = SVM_ampl(type='primal', nu=nu, solver='ipopt')\n",
    "primal = primal.fit(X_train, Y_train)\n",
    "y_pred = primal.predict(X_test)\n",
    "accuracy = np.sum(y_pred == Y_test)/len(Y_test)\n",
    "df_250 = pd.concat([df_250, pd.DataFrame({'type': 'primal', 'accuracy': accuracy, 'gamma': np.concatenate(primal.gamma), 'w': np.array2string(np.concatenate(primal.w), precision=4, separator=','), 'iterations': primal.metrics['num_iterations'], 'solve time': primal.solve_time}, index=[0])], ignore_index=True)\n",
    "\n",
    "#dual_linear\n",
    "dual_linear = SVM_ampl(type='dual_linear', nu=nu, solver='ipopt')\n",
    "dual_linear = dual_linear.fit(X_train, Y_train)\n",
    "y_pred = dual_linear.predict(X_test)\n",
    "accuracy = np.sum(y_pred == Y_test)/len(Y_test)\n",
    "df_250 = pd.concat([df_250, pd.DataFrame({'type': 'dual_linear', 'accuracy': accuracy, 'gamma': dual_linear.gamma, 'w': np.array2string(dual_linear.w, precision=4, separator=','), 'iterations': dual_linear.metrics['num_iterations'], 'solve time': dual_linear.solve_time}, index=[0])], ignore_index=True)\n",
    "\n",
    "#sklearn SVC\n",
    "sklearn = SVC(kernel='linear', C=1/nu)\n",
    "start = time()\n",
    "sklearn.fit(X_train, Y_train)\n",
    "end = time()\n",
    "y_pred = sklearn.predict(X_test)\n",
    "accuracy = np.sum(y_pred == Y_test)/len(Y_test)\n",
    "df_250 = pd.concat([df_250, pd.DataFrame({'type': 'sklearn SVC', 'accuracy': accuracy, 'gamma': sklearn.intercept_, 'w': np.array2string(np.concatenate(sklearn.coef_), precision=4, separator=','), 'iterations': sklearn.n_iter_, 'solve time': end-start}, index=[0])], ignore_index=True)\n",
    "\n",
    "df_250"
   ]
  },
  {
   "attachments": {},
   "cell_type": "markdown",
   "metadata": {},
   "source": [
    "## Real dataset linearly separable"
   ]
  },
  {
   "cell_type": "code",
   "execution_count": 7,
   "metadata": {},
   "outputs": [],
   "source": [
    "#read iris data\n",
    "iris = pd.read_csv(\"dataset/iris.csv\")\n",
    "iris.iloc[:,-1] = np.where(iris.iloc[:,-1] == 'Iris-setosa', 1, -1)\n",
    "\n",
    "X_train, X_test, Y_train, Y_test = train_test_split(iris.iloc[:,0:4], iris.iloc[:,-1], test_size=0.2, random_state=42)\n",
    "\n",
    "X_train = X_train.to_numpy()\n",
    "Y_train = Y_train.to_numpy().astype(float)\n",
    "X_test = X_test.to_numpy()\n",
    "Y_test = Y_test.to_numpy().astype(float)"
   ]
  },
  {
   "cell_type": "code",
   "execution_count": 8,
   "metadata": {},
   "outputs": [
    {
     "data": {
      "application/vnd.plotly.v1+json": {
       "config": {
        "plotlyServerURL": "https://plot.ly"
       },
       "data": [
        {
         "hovertemplate": "x=%{x}<br>y=%{y}<br>color=%{marker.color}<extra></extra>",
         "legendgroup": "",
         "marker": {
          "color": [
           1,
           1,
           -1,
           1,
           1,
           -1,
           -1,
           1,
           1,
           1,
           -1,
           -1,
           -1,
           1,
           1,
           -1,
           -1,
           -1,
           -1,
           -1,
           -1,
           -1,
           -1,
           1,
           -1,
           -1,
           1,
           1,
           1,
           -1,
           -1,
           1,
           1,
           1,
           -1,
           1,
           -1,
           -1,
           1,
           -1,
           -1,
           1,
           -1,
           -1,
           -1,
           -1,
           -1,
           -1,
           1,
           -1,
           -1,
           1,
           1,
           -1,
           -1,
           1,
           -1,
           1,
           1,
           -1,
           -1,
           -1,
           -1,
           -1,
           -1,
           -1,
           1,
           1,
           -1,
           -1,
           1,
           1,
           1,
           -1,
           -1,
           1,
           -1,
           -1,
           1,
           -1,
           -1,
           -1,
           -1,
           -1,
           1,
           -1,
           -1,
           -1,
           -1,
           -1,
           -1,
           1,
           -1,
           -1,
           1,
           -1,
           -1,
           -1,
           1,
           -1,
           -1,
           -1,
           1,
           -1,
           1,
           -1,
           -1,
           -1,
           -1,
           -1,
           -1,
           -1,
           -1,
           -1,
           1,
           -1,
           -1,
           1,
           -1,
           -1
          ],
          "coloraxis": "coloraxis",
          "line": {
           "color": "DarkSlateGrey",
           "width": 2
          },
          "size": 12,
          "symbol": "circle"
         },
         "mode": "markers",
         "name": "",
         "orientation": "v",
         "showlegend": false,
         "type": "scatter",
         "x": [
          -2.740949203645428,
          -2.2016677880273674,
          0.9275181805510481,
          -2.2949923043994467,
          -2.5296985638708955,
          1.6086727459400372,
          0.7872610488414908,
          -2.134713172920579,
          -2.3540689346202326,
          -2.566368388468941,
          1.2070314955239465,
          0.4909206376287004,
          1.103336877797443,
          -2.1615643435017144,
          -2.1268946330216068,
          0.047754016236358415,
          1.1621269259920792,
          1.4075279378874883,
          0.9236089106015617,
          2.3459088390507623,
          0.2711486708941982,
          2.8205121983504067,
          0.3998076157639969,
          -2.231433240176878,
          2.960482748033815,
          0.19327216632433133,
          -2.1087975457335233,
          -2.2526773653664183,
          -2.0913330674847694,
          -0.09805071587776398,
          1.3810227943195317,
          -2.1946495492198106,
          -1.93099449101887,
          -1.7859362343030973,
          0.32660261319164563,
          -2.138622442870065,
          0.13630951658050539,
          2.517802509697992,
          -2.3697060144181767,
          0.620958666936178,
          1.3045137948282748,
          -2.3938857971197356,
          0.9796681259295901,
          1.2070314955239465,
          0.5831856068919636,
          0.27326265137115696,
          1.44682546202776,
          0.4338878098632047,
          -2.0277740032621994,
          -0.34303552273832366,
          1.6535615588222257,
          -2.17597929787943,
          -2.1835112557522534,
          0.15667754336299572,
          1.4139947293575306,
          -2.1625537125888616,
          1.5250479936108057,
          -2.201894925066485,
          -1.9259067839865058,
          0.7976692192393019,
          -0.4233562781486494,
          2.1088020170762056,
          1.1071486337165113,
          1.2460703693257418,
          2.8674986393809503,
          0.3151613853693364,
          -2.3181613420702147,
          -2.616615733759964,
          1.2950411678245444,
          2.0215825085113095,
          -2.276895217111364,
          -2.1559572981101196,
          -2.4109721393770274,
          1.273321392613124,
          1.6524690564106959,
          -2.412956496845286,
          1.9464089051203788,
          1.921098550963904,
          -2.339881117281635,
          0.766952467046031,
          1.1214339650855258,
          1.224939514816299,
          1.1583151700730105,
          1.6586492658545897,
          -2.3426277067979226,
          1.9168705900099867,
          0.48928230717362187,
          1.5807727612847233,
          -0.011322613984426882,
          0.04864587129308734,
          0.674141669739218,
          -1.8566812293853099,
          0.9743913509014945,
          0.31411257129515874,
          -2.190167115218027,
          0.1150653913909646,
          2.363287382628168,
          1.7719419563029142,
          -2.1657601954773504,
          -0.4656712171816778,
          2.073845724569949,
          1.922461878751903,
          -2.1625537125888616,
          2.0836486219371793,
          -2.0611621433350478,
          1.296777012310041,
          2.494503849018524,
          1.4964294652448147,
          0.2970642980812534,
          1.5301636323308423,
          1.0738580076740813,
          0.7475036313290184,
          1.0297040908311734,
          1.0167383989128063,
          -1.8819098261610465,
          0.5167066418070553,
          0.40466818575724356,
          -2.152237096156364,
          0.3701396776449041,
          2.2700166919491545
         ],
         "xaxis": "x",
         "y": [
          0.45290864650437934,
          2.646865324029804,
          0.5295130550897087,
          0.1383978223753507,
          -0.4665908706056192,
          -0.8562044356063532,
          0.6048330308787475,
          0.5321308406771987,
          0.6445288192641161,
          1.7675045803735194,
          -0.6752500420060026,
          0.8394401585405242,
          0.5403400954817641,
          1.4682050890507465,
          1.0402935773741893,
          -1.521731201826524,
          -0.26472970323309375,
          0.4311378268963523,
          0.2754316867412133,
          1.902763422678993,
          -0.3635742383817984,
          0.8211285722479301,
          -0.18466474553317364,
          0.48422579748726446,
          0.4468697946327996,
          -0.7554236171645892,
          0.323922775710413,
          0.44410018497704856,
          1.126440593555282,
          -2.586977588314551,
          -0.4506153460648368,
          0.14144543208768795,
          -0.5965926113036985,
          0.09622730911340904,
          -0.8248478017929662,
          0.2780494723287035,
          -0.164161473998843,
          2.534350606618968,
          -0.3717966541298636,
          -0.12811250204857727,
          -1.1297600446415654,
          2.1221278560692647,
          0.029277849361604893,
          -0.6752500420060026,
          -1.6986221158104242,
          -0.2784430921048168,
          0.9968173490072059,
          -1.7025374951377064,
          1.4722685686671961,
          -1.967432742934756,
          -0.39188326248284705,
          0.022952234076096145,
          -0.18627170079480124,
          -1.5129359012426937,
          0.3517543714908639,
          -0.44508489011067703,
          -0.42916069354474,
          0.23116029904288188,
          0.4704860867285399,
          0.3967730662011302,
          -1.5014273585562066,
          0.9137047815949495,
          -0.6048099874735132,
          -0.7755925210892393,
          0.8784972573726262,
          -1.2881531050123596,
          -1.087151585889527,
          -0.9376756045047309,
          -1.6495662633707098,
          1.0185227577661615,
          -0.5779729792884246,
          0.49200522816698256,
          -0.880975260730966,
          -0.8883380282293377,
          1.0535176927809704,
          0.05036716667520036,
          0.43484061701611976,
          0.8581684080144647,
          -0.32592335074815404,
          -0.16315876503823162,
          -0.17603070618201228,
          -0.2913281941920983,
          0.8804203797221846,
          0.6751954355493912,
          1.1078341224835084,
          0.6879061154605028,
          -0.04704483538804529,
          0.28334605676659935,
          -1.0156002049377588,
          -1.0076726739688722,
          0.04301756012032945,
          -2.2766520222041393,
          0.06249180080704664,
          -1.0846768610129545,
          0.9934044040883673,
          -0.20428708650905936,
          0.44688295557630026,
          1.0115597687265423,
          0.9151849188761599,
          -1.807129721157904,
          1.0426774914454144,
          0.5865477664731539,
          -0.44508489011067703,
          0.6194978007362382,
          -0.6455135243977448,
          0.6361501818616324,
          0.2923276246709421,
          -0.02911986661070412,
          -0.5717823033485843,
          0.2708348051195005,
          -1.3233606292346827,
          -0.03433415547693369,
          -0.5560885026434806,
          -0.014563714211879457,
          0.4207487319943938,
          -0.3852414801094099,
          -1.5332910724878557,
          1.846379245993158,
          -0.948072820771939,
          0.5795716164900345
         ],
         "yaxis": "y"
        }
       ],
       "layout": {
        "coloraxis": {
         "colorbar": {
          "title": {
           "text": "color"
          }
         },
         "colorscale": [
          [
           0,
           "#0d0887"
          ],
          [
           0.1111111111111111,
           "#46039f"
          ],
          [
           0.2222222222222222,
           "#7201a8"
          ],
          [
           0.3333333333333333,
           "#9c179e"
          ],
          [
           0.4444444444444444,
           "#bd3786"
          ],
          [
           0.5555555555555556,
           "#d8576b"
          ],
          [
           0.6666666666666666,
           "#ed7953"
          ],
          [
           0.7777777777777778,
           "#fb9f3a"
          ],
          [
           0.8888888888888888,
           "#fdca26"
          ],
          [
           1,
           "#f0f921"
          ]
         ],
         "showscale": false
        },
        "legend": {
         "tracegroupgap": 0
        },
        "margin": {
         "t": 60
        },
        "template": {
         "data": {
          "bar": [
           {
            "error_x": {
             "color": "#2a3f5f"
            },
            "error_y": {
             "color": "#2a3f5f"
            },
            "marker": {
             "line": {
              "color": "#E5ECF6",
              "width": 0.5
             },
             "pattern": {
              "fillmode": "overlay",
              "size": 10,
              "solidity": 0.2
             }
            },
            "type": "bar"
           }
          ],
          "barpolar": [
           {
            "marker": {
             "line": {
              "color": "#E5ECF6",
              "width": 0.5
             },
             "pattern": {
              "fillmode": "overlay",
              "size": 10,
              "solidity": 0.2
             }
            },
            "type": "barpolar"
           }
          ],
          "carpet": [
           {
            "aaxis": {
             "endlinecolor": "#2a3f5f",
             "gridcolor": "white",
             "linecolor": "white",
             "minorgridcolor": "white",
             "startlinecolor": "#2a3f5f"
            },
            "baxis": {
             "endlinecolor": "#2a3f5f",
             "gridcolor": "white",
             "linecolor": "white",
             "minorgridcolor": "white",
             "startlinecolor": "#2a3f5f"
            },
            "type": "carpet"
           }
          ],
          "choropleth": [
           {
            "colorbar": {
             "outlinewidth": 0,
             "ticks": ""
            },
            "type": "choropleth"
           }
          ],
          "contour": [
           {
            "colorbar": {
             "outlinewidth": 0,
             "ticks": ""
            },
            "colorscale": [
             [
              0,
              "#0d0887"
             ],
             [
              0.1111111111111111,
              "#46039f"
             ],
             [
              0.2222222222222222,
              "#7201a8"
             ],
             [
              0.3333333333333333,
              "#9c179e"
             ],
             [
              0.4444444444444444,
              "#bd3786"
             ],
             [
              0.5555555555555556,
              "#d8576b"
             ],
             [
              0.6666666666666666,
              "#ed7953"
             ],
             [
              0.7777777777777778,
              "#fb9f3a"
             ],
             [
              0.8888888888888888,
              "#fdca26"
             ],
             [
              1,
              "#f0f921"
             ]
            ],
            "type": "contour"
           }
          ],
          "contourcarpet": [
           {
            "colorbar": {
             "outlinewidth": 0,
             "ticks": ""
            },
            "type": "contourcarpet"
           }
          ],
          "heatmap": [
           {
            "colorbar": {
             "outlinewidth": 0,
             "ticks": ""
            },
            "colorscale": [
             [
              0,
              "#0d0887"
             ],
             [
              0.1111111111111111,
              "#46039f"
             ],
             [
              0.2222222222222222,
              "#7201a8"
             ],
             [
              0.3333333333333333,
              "#9c179e"
             ],
             [
              0.4444444444444444,
              "#bd3786"
             ],
             [
              0.5555555555555556,
              "#d8576b"
             ],
             [
              0.6666666666666666,
              "#ed7953"
             ],
             [
              0.7777777777777778,
              "#fb9f3a"
             ],
             [
              0.8888888888888888,
              "#fdca26"
             ],
             [
              1,
              "#f0f921"
             ]
            ],
            "type": "heatmap"
           }
          ],
          "heatmapgl": [
           {
            "colorbar": {
             "outlinewidth": 0,
             "ticks": ""
            },
            "colorscale": [
             [
              0,
              "#0d0887"
             ],
             [
              0.1111111111111111,
              "#46039f"
             ],
             [
              0.2222222222222222,
              "#7201a8"
             ],
             [
              0.3333333333333333,
              "#9c179e"
             ],
             [
              0.4444444444444444,
              "#bd3786"
             ],
             [
              0.5555555555555556,
              "#d8576b"
             ],
             [
              0.6666666666666666,
              "#ed7953"
             ],
             [
              0.7777777777777778,
              "#fb9f3a"
             ],
             [
              0.8888888888888888,
              "#fdca26"
             ],
             [
              1,
              "#f0f921"
             ]
            ],
            "type": "heatmapgl"
           }
          ],
          "histogram": [
           {
            "marker": {
             "pattern": {
              "fillmode": "overlay",
              "size": 10,
              "solidity": 0.2
             }
            },
            "type": "histogram"
           }
          ],
          "histogram2d": [
           {
            "colorbar": {
             "outlinewidth": 0,
             "ticks": ""
            },
            "colorscale": [
             [
              0,
              "#0d0887"
             ],
             [
              0.1111111111111111,
              "#46039f"
             ],
             [
              0.2222222222222222,
              "#7201a8"
             ],
             [
              0.3333333333333333,
              "#9c179e"
             ],
             [
              0.4444444444444444,
              "#bd3786"
             ],
             [
              0.5555555555555556,
              "#d8576b"
             ],
             [
              0.6666666666666666,
              "#ed7953"
             ],
             [
              0.7777777777777778,
              "#fb9f3a"
             ],
             [
              0.8888888888888888,
              "#fdca26"
             ],
             [
              1,
              "#f0f921"
             ]
            ],
            "type": "histogram2d"
           }
          ],
          "histogram2dcontour": [
           {
            "colorbar": {
             "outlinewidth": 0,
             "ticks": ""
            },
            "colorscale": [
             [
              0,
              "#0d0887"
             ],
             [
              0.1111111111111111,
              "#46039f"
             ],
             [
              0.2222222222222222,
              "#7201a8"
             ],
             [
              0.3333333333333333,
              "#9c179e"
             ],
             [
              0.4444444444444444,
              "#bd3786"
             ],
             [
              0.5555555555555556,
              "#d8576b"
             ],
             [
              0.6666666666666666,
              "#ed7953"
             ],
             [
              0.7777777777777778,
              "#fb9f3a"
             ],
             [
              0.8888888888888888,
              "#fdca26"
             ],
             [
              1,
              "#f0f921"
             ]
            ],
            "type": "histogram2dcontour"
           }
          ],
          "mesh3d": [
           {
            "colorbar": {
             "outlinewidth": 0,
             "ticks": ""
            },
            "type": "mesh3d"
           }
          ],
          "parcoords": [
           {
            "line": {
             "colorbar": {
              "outlinewidth": 0,
              "ticks": ""
             }
            },
            "type": "parcoords"
           }
          ],
          "pie": [
           {
            "automargin": true,
            "type": "pie"
           }
          ],
          "scatter": [
           {
            "fillpattern": {
             "fillmode": "overlay",
             "size": 10,
             "solidity": 0.2
            },
            "type": "scatter"
           }
          ],
          "scatter3d": [
           {
            "line": {
             "colorbar": {
              "outlinewidth": 0,
              "ticks": ""
             }
            },
            "marker": {
             "colorbar": {
              "outlinewidth": 0,
              "ticks": ""
             }
            },
            "type": "scatter3d"
           }
          ],
          "scattercarpet": [
           {
            "marker": {
             "colorbar": {
              "outlinewidth": 0,
              "ticks": ""
             }
            },
            "type": "scattercarpet"
           }
          ],
          "scattergeo": [
           {
            "marker": {
             "colorbar": {
              "outlinewidth": 0,
              "ticks": ""
             }
            },
            "type": "scattergeo"
           }
          ],
          "scattergl": [
           {
            "marker": {
             "colorbar": {
              "outlinewidth": 0,
              "ticks": ""
             }
            },
            "type": "scattergl"
           }
          ],
          "scattermapbox": [
           {
            "marker": {
             "colorbar": {
              "outlinewidth": 0,
              "ticks": ""
             }
            },
            "type": "scattermapbox"
           }
          ],
          "scatterpolar": [
           {
            "marker": {
             "colorbar": {
              "outlinewidth": 0,
              "ticks": ""
             }
            },
            "type": "scatterpolar"
           }
          ],
          "scatterpolargl": [
           {
            "marker": {
             "colorbar": {
              "outlinewidth": 0,
              "ticks": ""
             }
            },
            "type": "scatterpolargl"
           }
          ],
          "scatterternary": [
           {
            "marker": {
             "colorbar": {
              "outlinewidth": 0,
              "ticks": ""
             }
            },
            "type": "scatterternary"
           }
          ],
          "surface": [
           {
            "colorbar": {
             "outlinewidth": 0,
             "ticks": ""
            },
            "colorscale": [
             [
              0,
              "#0d0887"
             ],
             [
              0.1111111111111111,
              "#46039f"
             ],
             [
              0.2222222222222222,
              "#7201a8"
             ],
             [
              0.3333333333333333,
              "#9c179e"
             ],
             [
              0.4444444444444444,
              "#bd3786"
             ],
             [
              0.5555555555555556,
              "#d8576b"
             ],
             [
              0.6666666666666666,
              "#ed7953"
             ],
             [
              0.7777777777777778,
              "#fb9f3a"
             ],
             [
              0.8888888888888888,
              "#fdca26"
             ],
             [
              1,
              "#f0f921"
             ]
            ],
            "type": "surface"
           }
          ],
          "table": [
           {
            "cells": {
             "fill": {
              "color": "#EBF0F8"
             },
             "line": {
              "color": "white"
             }
            },
            "header": {
             "fill": {
              "color": "#C8D4E3"
             },
             "line": {
              "color": "white"
             }
            },
            "type": "table"
           }
          ]
         },
         "layout": {
          "annotationdefaults": {
           "arrowcolor": "#2a3f5f",
           "arrowhead": 0,
           "arrowwidth": 1
          },
          "autotypenumbers": "strict",
          "coloraxis": {
           "colorbar": {
            "outlinewidth": 0,
            "ticks": ""
           }
          },
          "colorscale": {
           "diverging": [
            [
             0,
             "#8e0152"
            ],
            [
             0.1,
             "#c51b7d"
            ],
            [
             0.2,
             "#de77ae"
            ],
            [
             0.3,
             "#f1b6da"
            ],
            [
             0.4,
             "#fde0ef"
            ],
            [
             0.5,
             "#f7f7f7"
            ],
            [
             0.6,
             "#e6f5d0"
            ],
            [
             0.7,
             "#b8e186"
            ],
            [
             0.8,
             "#7fbc41"
            ],
            [
             0.9,
             "#4d9221"
            ],
            [
             1,
             "#276419"
            ]
           ],
           "sequential": [
            [
             0,
             "#0d0887"
            ],
            [
             0.1111111111111111,
             "#46039f"
            ],
            [
             0.2222222222222222,
             "#7201a8"
            ],
            [
             0.3333333333333333,
             "#9c179e"
            ],
            [
             0.4444444444444444,
             "#bd3786"
            ],
            [
             0.5555555555555556,
             "#d8576b"
            ],
            [
             0.6666666666666666,
             "#ed7953"
            ],
            [
             0.7777777777777778,
             "#fb9f3a"
            ],
            [
             0.8888888888888888,
             "#fdca26"
            ],
            [
             1,
             "#f0f921"
            ]
           ],
           "sequentialminus": [
            [
             0,
             "#0d0887"
            ],
            [
             0.1111111111111111,
             "#46039f"
            ],
            [
             0.2222222222222222,
             "#7201a8"
            ],
            [
             0.3333333333333333,
             "#9c179e"
            ],
            [
             0.4444444444444444,
             "#bd3786"
            ],
            [
             0.5555555555555556,
             "#d8576b"
            ],
            [
             0.6666666666666666,
             "#ed7953"
            ],
            [
             0.7777777777777778,
             "#fb9f3a"
            ],
            [
             0.8888888888888888,
             "#fdca26"
            ],
            [
             1,
             "#f0f921"
            ]
           ]
          },
          "colorway": [
           "#636efa",
           "#EF553B",
           "#00cc96",
           "#ab63fa",
           "#FFA15A",
           "#19d3f3",
           "#FF6692",
           "#B6E880",
           "#FF97FF",
           "#FECB52"
          ],
          "font": {
           "color": "#2a3f5f"
          },
          "geo": {
           "bgcolor": "white",
           "lakecolor": "white",
           "landcolor": "#E5ECF6",
           "showlakes": true,
           "showland": true,
           "subunitcolor": "white"
          },
          "hoverlabel": {
           "align": "left"
          },
          "hovermode": "closest",
          "mapbox": {
           "style": "light"
          },
          "paper_bgcolor": "white",
          "plot_bgcolor": "#E5ECF6",
          "polar": {
           "angularaxis": {
            "gridcolor": "white",
            "linecolor": "white",
            "ticks": ""
           },
           "bgcolor": "#E5ECF6",
           "radialaxis": {
            "gridcolor": "white",
            "linecolor": "white",
            "ticks": ""
           }
          },
          "scene": {
           "xaxis": {
            "backgroundcolor": "#E5ECF6",
            "gridcolor": "white",
            "gridwidth": 2,
            "linecolor": "white",
            "showbackground": true,
            "ticks": "",
            "zerolinecolor": "white"
           },
           "yaxis": {
            "backgroundcolor": "#E5ECF6",
            "gridcolor": "white",
            "gridwidth": 2,
            "linecolor": "white",
            "showbackground": true,
            "ticks": "",
            "zerolinecolor": "white"
           },
           "zaxis": {
            "backgroundcolor": "#E5ECF6",
            "gridcolor": "white",
            "gridwidth": 2,
            "linecolor": "white",
            "showbackground": true,
            "ticks": "",
            "zerolinecolor": "white"
           }
          },
          "shapedefaults": {
           "line": {
            "color": "#2a3f5f"
           }
          },
          "ternary": {
           "aaxis": {
            "gridcolor": "white",
            "linecolor": "white",
            "ticks": ""
           },
           "baxis": {
            "gridcolor": "white",
            "linecolor": "white",
            "ticks": ""
           },
           "bgcolor": "#E5ECF6",
           "caxis": {
            "gridcolor": "white",
            "linecolor": "white",
            "ticks": ""
           }
          },
          "title": {
           "x": 0.05
          },
          "xaxis": {
           "automargin": true,
           "gridcolor": "white",
           "linecolor": "white",
           "ticks": "",
           "title": {
            "standoff": 15
           },
           "zerolinecolor": "white",
           "zerolinewidth": 2
          },
          "yaxis": {
           "automargin": true,
           "gridcolor": "white",
           "linecolor": "white",
           "ticks": "",
           "title": {
            "standoff": 15
           },
           "zerolinecolor": "white",
           "zerolinewidth": 2
          }
         }
        },
        "xaxis": {
         "anchor": "y",
         "domain": [
          0,
          1
         ],
         "title": {
          "text": "Component 1"
         }
        },
        "yaxis": {
         "anchor": "x",
         "domain": [
          0,
          1
         ],
         "title": {
          "text": "Component 2"
         }
        }
       }
      }
     },
     "metadata": {},
     "output_type": "display_data"
    }
   ],
   "source": [
    "pca = PCA(n_components=2)\n",
    "pca = pca.fit(pd.DataFrame(X_train))\n",
    "X_train_pca = pca.transform(pd.DataFrame(X_train))\n",
    "\n",
    "fig = px.scatter(x=X_train_pca[0], y=X_train_pca[1], color=Y_train)\n",
    "\n",
    "fig.update_traces(marker=dict(size=12,\n",
    "                                line=dict(width=2,\n",
    "                                            color='DarkSlateGrey')),\n",
    "                    selector=dict(mode='markers'))\n",
    "# remove colorbar\n",
    "fig.update_layout(coloraxis_showscale=False)\n",
    "# change axis title to Component 1 and Component 2\n",
    "fig.update_layout(xaxis_title=\"Component 1\", yaxis_title=\"Component 2\")\n",
    "# save to pca_iris.pdf\n",
    "\n",
    "fig.show()"
   ]
  },
  {
   "cell_type": "code",
   "execution_count": 9,
   "metadata": {},
   "outputs": [
    {
     "name": "stdout",
     "output_type": "stream",
     "text": [
      "ipopt\n",
      "ipopt\n",
      "ipopt\n",
      "ipopt\n",
      "predicting with gaussian kernel\n"
     ]
    },
    {
     "data": {
      "text/html": [
       "<div>\n",
       "<style scoped>\n",
       "    .dataframe tbody tr th:only-of-type {\n",
       "        vertical-align: middle;\n",
       "    }\n",
       "\n",
       "    .dataframe tbody tr th {\n",
       "        vertical-align: top;\n",
       "    }\n",
       "\n",
       "    .dataframe thead th {\n",
       "        text-align: right;\n",
       "    }\n",
       "</style>\n",
       "<table border=\"1\" class=\"dataframe\">\n",
       "  <thead>\n",
       "    <tr style=\"text-align: right;\">\n",
       "      <th></th>\n",
       "      <th>type</th>\n",
       "      <th>accuracy</th>\n",
       "      <th>gamma</th>\n",
       "      <th>w</th>\n",
       "      <th>iterations</th>\n",
       "      <th>solve time</th>\n",
       "    </tr>\n",
       "  </thead>\n",
       "  <tbody>\n",
       "    <tr>\n",
       "      <th>0</th>\n",
       "      <td>primal</td>\n",
       "      <td>1.0</td>\n",
       "      <td>1.450561</td>\n",
       "      <td>[-0.046 , 0.5217,-1.0032,-0.4642]</td>\n",
       "      <td>26</td>\n",
       "      <td>0.698500</td>\n",
       "    </tr>\n",
       "    <tr>\n",
       "      <th>1</th>\n",
       "      <td>dual_linear</td>\n",
       "      <td>1.0</td>\n",
       "      <td>1.450587</td>\n",
       "      <td>[-0.046 , 0.5217,-1.0032,-0.4642]</td>\n",
       "      <td>15</td>\n",
       "      <td>1.005960</td>\n",
       "    </tr>\n",
       "    <tr>\n",
       "      <th>2</th>\n",
       "      <td>dual_gaussian</td>\n",
       "      <td>1.0</td>\n",
       "      <td>-0.265180</td>\n",
       "      <td>[0.,0.,0.,0.]</td>\n",
       "      <td>14</td>\n",
       "      <td>1.468409</td>\n",
       "    </tr>\n",
       "    <tr>\n",
       "      <th>3</th>\n",
       "      <td>sklearn SVC</td>\n",
       "      <td>1.0</td>\n",
       "      <td>1.447464</td>\n",
       "      <td>[-0.0458, 0.5222,-1.0029,-0.4641]</td>\n",
       "      <td>6</td>\n",
       "      <td>0.002467</td>\n",
       "    </tr>\n",
       "  </tbody>\n",
       "</table>\n",
       "</div>"
      ],
      "text/plain": [
       "            type  accuracy     gamma                                  w  \\\n",
       "0         primal       1.0  1.450561  [-0.046 , 0.5217,-1.0032,-0.4642]   \n",
       "1    dual_linear       1.0  1.450587  [-0.046 , 0.5217,-1.0032,-0.4642]   \n",
       "2  dual_gaussian       1.0 -0.265180                      [0.,0.,0.,0.]   \n",
       "3    sklearn SVC       1.0  1.447464  [-0.0458, 0.5222,-1.0029,-0.4641]   \n",
       "\n",
       "  iterations  solve time  \n",
       "0         26    0.698500  \n",
       "1         15    1.005960  \n",
       "2         14    1.468409  \n",
       "3          6    0.002467  "
      ]
     },
     "execution_count": 9,
     "metadata": {},
     "output_type": "execute_result"
    }
   ],
   "source": [
    "# fit the models for different nu values\n",
    "nu = 1\n",
    "types = ['primal', 'dual_linear', 'dual_gaussian']\n",
    "\n",
    "# create a dataframe to store the results\n",
    "df_iris = pd.DataFrame(columns=['type', 'accuracy', 'gamma', 'w', 'iterations', 'solve time'])\n",
    "\n",
    "#primal\n",
    "primal = SVM_ampl(type='primal', nu=nu, solver='ipopt')\n",
    "primal = primal.fit(X_train, Y_train)\n",
    "y_pred = primal.predict(X_test)\n",
    "accuracy = np.sum(y_pred == Y_test)/len(Y_test)\n",
    "df_iris = pd.concat([df_iris, pd.DataFrame({'type': 'primal', 'accuracy': accuracy, 'gamma': np.concatenate(primal.gamma), 'w': np.array2string(np.concatenate(primal.w), precision=4, separator=','), 'iterations': primal.metrics['num_iterations'], 'solve time': primal.solve_time}, index=[0])], ignore_index=True)\n",
    "\n",
    "#dual_linear\n",
    "dual_linear = SVM_ampl(type='dual_linear', nu=nu, solver='ipopt')\n",
    "dual_linear = dual_linear.fit(X_train, Y_train)\n",
    "y_pred = dual_linear.predict(X_test)\n",
    "accuracy = np.sum(y_pred == Y_test)/len(Y_test)\n",
    "df_iris = pd.concat([df_iris, pd.DataFrame({'type': 'dual_linear', 'accuracy': accuracy, 'gamma': dual_linear.gamma, 'w': np.array2string(dual_linear.w, precision=4, separator=','), 'iterations': dual_linear.metrics['num_iterations'], 'solve time': dual_linear.solve_time}, index=[0])], ignore_index=True)\n",
    "\n",
    "#dual_gaussian\n",
    "dual_gaussian = SVM_ampl(type='dual_gaussian', nu=nu, solver='ipopt')\n",
    "dual_gaussian = dual_gaussian.fit(X_train, Y_train)\n",
    "y_pred = dual_gaussian.predict(X_test)\n",
    "accuracy = np.sum(y_pred == Y_test)/len(Y_test)\n",
    "df_iris = pd.concat([df_iris, pd.DataFrame({'type': 'dual_gaussian', 'accuracy': accuracy, 'gamma': dual_gaussian.gamma, 'w': np.array2string(dual_gaussian.w, precision=4, separator=','), 'iterations': dual_gaussian.metrics['num_iterations'], 'solve time': dual_gaussian.solve_time}, index=[0])], ignore_index=True)\n",
    "\n",
    "#sklearn SVC\n",
    "sklearn = SVC(kernel='linear', C=1/nu)\n",
    "start = time()\n",
    "sklearn.fit(X_train, Y_train)\n",
    "end = time()\n",
    "y_pred = sklearn.predict(X_test)\n",
    "accuracy = np.sum(y_pred == Y_test)/len(Y_test)\n",
    "df_iris = pd.concat([df_iris, pd.DataFrame({'type': 'sklearn SVC', 'accuracy': accuracy, 'gamma': sklearn.intercept_, 'w': np.array2string(np.concatenate(sklearn.coef_), precision=4, separator=','), 'iterations': sklearn.n_iter_, 'solve time': end-start}, index=[0])], ignore_index=True)\n",
    "\n",
    "df_iris"
   ]
  }
 ],
 "metadata": {
  "kernelspec": {
   "display_name": "AA1",
   "language": "python",
   "name": "python3"
  },
  "language_info": {
   "codemirror_mode": {
    "name": "ipython",
    "version": 3
   },
   "file_extension": ".py",
   "mimetype": "text/x-python",
   "name": "python",
   "nbconvert_exporter": "python",
   "pygments_lexer": "ipython3",
   "version": "3.9.13"
  },
  "orig_nbformat": 4
 },
 "nbformat": 4,
 "nbformat_minor": 2
}
